{
 "cells": [
  {
   "cell_type": "code",
   "execution_count": 1,
   "id": "73895bca",
   "metadata": {},
   "outputs": [],
   "source": [
    "# %pip install graphviz\n",
    "# %pip install pydotplus\n",
    "# %pip install heamy\n",
    "# %pip install mlxtend\n",
    "# %pip install git+git://github.com/kvoyager/GmdhPy.git"
   ]
  },
  {
   "cell_type": "code",
   "execution_count": 2,
   "id": "971f98c5",
   "metadata": {},
   "outputs": [],
   "source": [
    "import numpy as np\n",
    "import pandas as pd\n",
    "import matplotlib.pyplot as plt\n",
    "import seaborn as sns\n",
    "from sklearn.model_selection import train_test_split, cross_val_score, LeaveOneOut, GridSearchCV, learning_curve, validation_curve\n",
    "from sklearn.metrics import accuracy_score, f1_score\n",
    "from sklearn.linear_model import LogisticRegression\n",
    "# from sklearn.metrics import confusion_matrix\n",
    "from sklearn.metrics import plot_confusion_matrix, recall_score, precision_score\n",
    "from sklearn.svm import SVC, NuSVC, LinearSVC, OneClassSVM, SVR, NuSVR, LinearSVR\n",
    "from sklearn.preprocessing import LabelEncoder\n",
    "from sklearn.tree import DecisionTreeClassifier, export_graphviz\n",
    "from IPython.core.display import HTML\n",
    "from sklearn.tree import export_text\n",
    "# from operator import itemgetter\n",
    "from sklearn.ensemble import BaggingClassifier, RandomForestClassifier, AdaBoostClassifier\n",
    "from IPython.display import Image\n",
    "import graphviz\n",
    "import pydotplus\n",
    "from io import StringIO\n",
    "from heamy.estimator import Regressor, Classifier\n",
    "from heamy.pipeline import ModelsPipeline\n",
    "from heamy.dataset import Dataset\n",
    "from mlxtend.classifier import StackingClassifier\n",
    "from sklearn.neural_network import MLPClassifier\n",
    "from sklearn.datasets import make_classification\n",
    "from gmdhpy import gmdh"
   ]
  },
  {
   "cell_type": "code",
   "execution_count": 3,
   "id": "f87c9373",
   "metadata": {},
   "outputs": [],
   "source": [
    "# # Визуализация дерева\n",
    "# def get_png_tree(tree_model_param, feature_names_param):\n",
    "#     dot_data = StringIO()\n",
    "#     export_graphviz(tree_model_param, out_file=dot_data, feature_names=feature_names_param,\n",
    "#                     filled=True, rounded=True, special_characters=True)\n",
    "#     graph = pydotplus.graph_from_dot_data(dot_data.getvalue())\n",
    "#     return graph.create_png()"
   ]
  },
  {
   "cell_type": "code",
   "execution_count": 4,
   "id": "c6efcbbb",
   "metadata": {},
   "outputs": [],
   "source": [
    "dataset = pd.read_csv('milknew.csv')"
   ]
  },
  {
   "cell_type": "code",
   "execution_count": 5,
   "id": "47db0b0f",
   "metadata": {},
   "outputs": [
    {
     "data": {
      "text/html": [
       "<div>\n",
       "<style scoped>\n",
       "    .dataframe tbody tr th:only-of-type {\n",
       "        vertical-align: middle;\n",
       "    }\n",
       "\n",
       "    .dataframe tbody tr th {\n",
       "        vertical-align: top;\n",
       "    }\n",
       "\n",
       "    .dataframe thead th {\n",
       "        text-align: right;\n",
       "    }\n",
       "</style>\n",
       "<table border=\"1\" class=\"dataframe\">\n",
       "  <thead>\n",
       "    <tr style=\"text-align: right;\">\n",
       "      <th></th>\n",
       "      <th>pH</th>\n",
       "      <th>Temprature</th>\n",
       "      <th>Taste</th>\n",
       "      <th>Odor</th>\n",
       "      <th>Fat</th>\n",
       "      <th>Turbidity</th>\n",
       "      <th>Colour</th>\n",
       "      <th>Grade</th>\n",
       "    </tr>\n",
       "  </thead>\n",
       "  <tbody>\n",
       "    <tr>\n",
       "      <th>0</th>\n",
       "      <td>6.6</td>\n",
       "      <td>35</td>\n",
       "      <td>1</td>\n",
       "      <td>0</td>\n",
       "      <td>1</td>\n",
       "      <td>0</td>\n",
       "      <td>254</td>\n",
       "      <td>high</td>\n",
       "    </tr>\n",
       "    <tr>\n",
       "      <th>1</th>\n",
       "      <td>6.6</td>\n",
       "      <td>36</td>\n",
       "      <td>0</td>\n",
       "      <td>1</td>\n",
       "      <td>0</td>\n",
       "      <td>1</td>\n",
       "      <td>253</td>\n",
       "      <td>high</td>\n",
       "    </tr>\n",
       "    <tr>\n",
       "      <th>2</th>\n",
       "      <td>8.5</td>\n",
       "      <td>70</td>\n",
       "      <td>1</td>\n",
       "      <td>1</td>\n",
       "      <td>1</td>\n",
       "      <td>1</td>\n",
       "      <td>246</td>\n",
       "      <td>low</td>\n",
       "    </tr>\n",
       "    <tr>\n",
       "      <th>3</th>\n",
       "      <td>9.5</td>\n",
       "      <td>34</td>\n",
       "      <td>1</td>\n",
       "      <td>1</td>\n",
       "      <td>0</td>\n",
       "      <td>1</td>\n",
       "      <td>255</td>\n",
       "      <td>low</td>\n",
       "    </tr>\n",
       "    <tr>\n",
       "      <th>4</th>\n",
       "      <td>6.6</td>\n",
       "      <td>37</td>\n",
       "      <td>0</td>\n",
       "      <td>0</td>\n",
       "      <td>0</td>\n",
       "      <td>0</td>\n",
       "      <td>255</td>\n",
       "      <td>medium</td>\n",
       "    </tr>\n",
       "  </tbody>\n",
       "</table>\n",
       "</div>"
      ],
      "text/plain": [
       "    pH  Temprature  Taste  Odor  Fat   Turbidity  Colour   Grade\n",
       "0  6.6          35      1     0     1          0     254    high\n",
       "1  6.6          36      0     1     0          1     253    high\n",
       "2  8.5          70      1     1     1          1     246     low\n",
       "3  9.5          34      1     1     0          1     255     low\n",
       "4  6.6          37      0     0     0          0     255  medium"
      ]
     },
     "execution_count": 5,
     "metadata": {},
     "output_type": "execute_result"
    }
   ],
   "source": [
    "# Первые 5 строк датасета\n",
    "dataset.head()"
   ]
  },
  {
   "cell_type": "code",
   "execution_count": 6,
   "id": "4563d6b4",
   "metadata": {},
   "outputs": [
    {
     "data": {
      "text/plain": [
       "(1059, 8)"
      ]
     },
     "execution_count": 6,
     "metadata": {},
     "output_type": "execute_result"
    }
   ],
   "source": [
    "# Размер датасета - 1059 строк, 8 колонок\n",
    "dataset.shape"
   ]
  },
  {
   "cell_type": "code",
   "execution_count": 7,
   "id": "3a8b2f5c",
   "metadata": {},
   "outputs": [
    {
     "data": {
      "text/plain": [
       "pH            float64\n",
       "Temprature      int64\n",
       "Taste           int64\n",
       "Odor            int64\n",
       "Fat             int64\n",
       "Turbidity       int64\n",
       "Colour          int64\n",
       "Grade          object\n",
       "dtype: object"
      ]
     },
     "execution_count": 7,
     "metadata": {},
     "output_type": "execute_result"
    }
   ],
   "source": [
    "dataset.dtypes"
   ]
  },
  {
   "cell_type": "code",
   "execution_count": 8,
   "id": "32c7b0d2",
   "metadata": {},
   "outputs": [
    {
     "name": "stdout",
     "output_type": "stream",
     "text": [
      "pH - 0\n",
      "Temprature - 0\n",
      "Taste - 0\n",
      "Odor - 0\n",
      "Fat  - 0\n",
      "Turbidity - 0\n",
      "Colour - 0\n",
      "Grade - 0\n"
     ]
    }
   ],
   "source": [
    "# Проверим наличие пустых значений\n",
    "# Цикл по колонкам датасета\n",
    "for col in dataset.columns:\n",
    "    # Количество пустых значений - все значения заполнены\n",
    "    temp_null_count = dataset[dataset[col].isnull()].shape[0]\n",
    "    print('{} - {}'.format(col, temp_null_count))"
   ]
  },
  {
   "cell_type": "code",
   "execution_count": 9,
   "id": "9f0063f6",
   "metadata": {},
   "outputs": [
    {
     "data": {
      "text/html": [
       "<div>\n",
       "<style scoped>\n",
       "    .dataframe tbody tr th:only-of-type {\n",
       "        vertical-align: middle;\n",
       "    }\n",
       "\n",
       "    .dataframe tbody tr th {\n",
       "        vertical-align: top;\n",
       "    }\n",
       "\n",
       "    .dataframe thead th {\n",
       "        text-align: right;\n",
       "    }\n",
       "</style>\n",
       "<table border=\"1\" class=\"dataframe\">\n",
       "  <thead>\n",
       "    <tr style=\"text-align: right;\">\n",
       "      <th></th>\n",
       "      <th>pH</th>\n",
       "      <th>Temprature</th>\n",
       "      <th>Taste</th>\n",
       "      <th>Odor</th>\n",
       "      <th>Fat</th>\n",
       "      <th>Turbidity</th>\n",
       "      <th>Colour</th>\n",
       "    </tr>\n",
       "  </thead>\n",
       "  <tbody>\n",
       "    <tr>\n",
       "      <th>count</th>\n",
       "      <td>1059.000000</td>\n",
       "      <td>1059.000000</td>\n",
       "      <td>1059.000000</td>\n",
       "      <td>1059.000000</td>\n",
       "      <td>1059.000000</td>\n",
       "      <td>1059.000000</td>\n",
       "      <td>1059.000000</td>\n",
       "    </tr>\n",
       "    <tr>\n",
       "      <th>mean</th>\n",
       "      <td>6.630123</td>\n",
       "      <td>44.226629</td>\n",
       "      <td>0.546742</td>\n",
       "      <td>0.432483</td>\n",
       "      <td>0.671388</td>\n",
       "      <td>0.491029</td>\n",
       "      <td>251.840415</td>\n",
       "    </tr>\n",
       "    <tr>\n",
       "      <th>std</th>\n",
       "      <td>1.399679</td>\n",
       "      <td>10.098364</td>\n",
       "      <td>0.498046</td>\n",
       "      <td>0.495655</td>\n",
       "      <td>0.469930</td>\n",
       "      <td>0.500156</td>\n",
       "      <td>4.307424</td>\n",
       "    </tr>\n",
       "    <tr>\n",
       "      <th>min</th>\n",
       "      <td>3.000000</td>\n",
       "      <td>34.000000</td>\n",
       "      <td>0.000000</td>\n",
       "      <td>0.000000</td>\n",
       "      <td>0.000000</td>\n",
       "      <td>0.000000</td>\n",
       "      <td>240.000000</td>\n",
       "    </tr>\n",
       "    <tr>\n",
       "      <th>25%</th>\n",
       "      <td>6.500000</td>\n",
       "      <td>38.000000</td>\n",
       "      <td>0.000000</td>\n",
       "      <td>0.000000</td>\n",
       "      <td>0.000000</td>\n",
       "      <td>0.000000</td>\n",
       "      <td>250.000000</td>\n",
       "    </tr>\n",
       "    <tr>\n",
       "      <th>50%</th>\n",
       "      <td>6.700000</td>\n",
       "      <td>41.000000</td>\n",
       "      <td>1.000000</td>\n",
       "      <td>0.000000</td>\n",
       "      <td>1.000000</td>\n",
       "      <td>0.000000</td>\n",
       "      <td>255.000000</td>\n",
       "    </tr>\n",
       "    <tr>\n",
       "      <th>75%</th>\n",
       "      <td>6.800000</td>\n",
       "      <td>45.000000</td>\n",
       "      <td>1.000000</td>\n",
       "      <td>1.000000</td>\n",
       "      <td>1.000000</td>\n",
       "      <td>1.000000</td>\n",
       "      <td>255.000000</td>\n",
       "    </tr>\n",
       "    <tr>\n",
       "      <th>max</th>\n",
       "      <td>9.500000</td>\n",
       "      <td>90.000000</td>\n",
       "      <td>1.000000</td>\n",
       "      <td>1.000000</td>\n",
       "      <td>1.000000</td>\n",
       "      <td>1.000000</td>\n",
       "      <td>255.000000</td>\n",
       "    </tr>\n",
       "  </tbody>\n",
       "</table>\n",
       "</div>"
      ],
      "text/plain": [
       "                pH   Temprature        Taste         Odor         Fat   \\\n",
       "count  1059.000000  1059.000000  1059.000000  1059.000000  1059.000000   \n",
       "mean      6.630123    44.226629     0.546742     0.432483     0.671388   \n",
       "std       1.399679    10.098364     0.498046     0.495655     0.469930   \n",
       "min       3.000000    34.000000     0.000000     0.000000     0.000000   \n",
       "25%       6.500000    38.000000     0.000000     0.000000     0.000000   \n",
       "50%       6.700000    41.000000     1.000000     0.000000     1.000000   \n",
       "75%       6.800000    45.000000     1.000000     1.000000     1.000000   \n",
       "max       9.500000    90.000000     1.000000     1.000000     1.000000   \n",
       "\n",
       "         Turbidity       Colour  \n",
       "count  1059.000000  1059.000000  \n",
       "mean      0.491029   251.840415  \n",
       "std       0.500156     4.307424  \n",
       "min       0.000000   240.000000  \n",
       "25%       0.000000   250.000000  \n",
       "50%       0.000000   255.000000  \n",
       "75%       1.000000   255.000000  \n",
       "max       1.000000   255.000000  "
      ]
     },
     "execution_count": 9,
     "metadata": {},
     "output_type": "execute_result"
    }
   ],
   "source": [
    "# Основные статистические характеристки набора данных\n",
    "dataset.describe()"
   ]
  },
  {
   "cell_type": "code",
   "execution_count": 10,
   "id": "02311d8f",
   "metadata": {},
   "outputs": [],
   "source": [
    "copied_ds = dataset.copy()\n",
    "\n",
    "for col in dataset.select_dtypes(include=['object']).columns:\n",
    "    copied_ds[col] = copied_ds[col].astype('string')\n",
    "dataset = copied_ds"
   ]
  },
  {
   "cell_type": "code",
   "execution_count": 11,
   "id": "eae9863e",
   "metadata": {},
   "outputs": [
    {
     "data": {
      "text/html": [
       "<div>\n",
       "<style scoped>\n",
       "    .dataframe tbody tr th:only-of-type {\n",
       "        vertical-align: middle;\n",
       "    }\n",
       "\n",
       "    .dataframe tbody tr th {\n",
       "        vertical-align: top;\n",
       "    }\n",
       "\n",
       "    .dataframe thead th {\n",
       "        text-align: right;\n",
       "    }\n",
       "</style>\n",
       "<table border=\"1\" class=\"dataframe\">\n",
       "  <thead>\n",
       "    <tr style=\"text-align: right;\">\n",
       "      <th></th>\n",
       "      <th>pH</th>\n",
       "      <th>Temprature</th>\n",
       "      <th>Taste</th>\n",
       "      <th>Odor</th>\n",
       "      <th>Turbidity</th>\n",
       "      <th>Colour</th>\n",
       "    </tr>\n",
       "  </thead>\n",
       "  <tbody>\n",
       "    <tr>\n",
       "      <th>0</th>\n",
       "      <td>6.6</td>\n",
       "      <td>35</td>\n",
       "      <td>1</td>\n",
       "      <td>0</td>\n",
       "      <td>0</td>\n",
       "      <td>254</td>\n",
       "    </tr>\n",
       "    <tr>\n",
       "      <th>1</th>\n",
       "      <td>6.6</td>\n",
       "      <td>36</td>\n",
       "      <td>0</td>\n",
       "      <td>1</td>\n",
       "      <td>1</td>\n",
       "      <td>253</td>\n",
       "    </tr>\n",
       "    <tr>\n",
       "      <th>2</th>\n",
       "      <td>8.5</td>\n",
       "      <td>70</td>\n",
       "      <td>1</td>\n",
       "      <td>1</td>\n",
       "      <td>1</td>\n",
       "      <td>246</td>\n",
       "    </tr>\n",
       "    <tr>\n",
       "      <th>3</th>\n",
       "      <td>9.5</td>\n",
       "      <td>34</td>\n",
       "      <td>1</td>\n",
       "      <td>1</td>\n",
       "      <td>1</td>\n",
       "      <td>255</td>\n",
       "    </tr>\n",
       "    <tr>\n",
       "      <th>4</th>\n",
       "      <td>6.6</td>\n",
       "      <td>37</td>\n",
       "      <td>0</td>\n",
       "      <td>0</td>\n",
       "      <td>0</td>\n",
       "      <td>255</td>\n",
       "    </tr>\n",
       "    <tr>\n",
       "      <th>...</th>\n",
       "      <td>...</td>\n",
       "      <td>...</td>\n",
       "      <td>...</td>\n",
       "      <td>...</td>\n",
       "      <td>...</td>\n",
       "      <td>...</td>\n",
       "    </tr>\n",
       "    <tr>\n",
       "      <th>1054</th>\n",
       "      <td>6.7</td>\n",
       "      <td>45</td>\n",
       "      <td>1</td>\n",
       "      <td>1</td>\n",
       "      <td>0</td>\n",
       "      <td>247</td>\n",
       "    </tr>\n",
       "    <tr>\n",
       "      <th>1055</th>\n",
       "      <td>6.7</td>\n",
       "      <td>38</td>\n",
       "      <td>1</td>\n",
       "      <td>0</td>\n",
       "      <td>0</td>\n",
       "      <td>255</td>\n",
       "    </tr>\n",
       "    <tr>\n",
       "      <th>1056</th>\n",
       "      <td>3.0</td>\n",
       "      <td>40</td>\n",
       "      <td>1</td>\n",
       "      <td>1</td>\n",
       "      <td>1</td>\n",
       "      <td>255</td>\n",
       "    </tr>\n",
       "    <tr>\n",
       "      <th>1057</th>\n",
       "      <td>6.8</td>\n",
       "      <td>43</td>\n",
       "      <td>1</td>\n",
       "      <td>0</td>\n",
       "      <td>0</td>\n",
       "      <td>250</td>\n",
       "    </tr>\n",
       "    <tr>\n",
       "      <th>1058</th>\n",
       "      <td>8.6</td>\n",
       "      <td>55</td>\n",
       "      <td>0</td>\n",
       "      <td>1</td>\n",
       "      <td>1</td>\n",
       "      <td>255</td>\n",
       "    </tr>\n",
       "  </tbody>\n",
       "</table>\n",
       "<p>1059 rows × 6 columns</p>\n",
       "</div>"
      ],
      "text/plain": [
       "       pH  Temprature  Taste  Odor  Turbidity  Colour\n",
       "0     6.6          35      1     0          0     254\n",
       "1     6.6          36      0     1          1     253\n",
       "2     8.5          70      1     1          1     246\n",
       "3     9.5          34      1     1          1     255\n",
       "4     6.6          37      0     0          0     255\n",
       "...   ...         ...    ...   ...        ...     ...\n",
       "1054  6.7          45      1     1          0     247\n",
       "1055  6.7          38      1     0          0     255\n",
       "1056  3.0          40      1     1          1     255\n",
       "1057  6.8          43      1     0          0     250\n",
       "1058  8.6          55      0     1          1     255\n",
       "\n",
       "[1059 rows x 6 columns]"
      ]
     },
     "execution_count": 11,
     "metadata": {},
     "output_type": "execute_result"
    }
   ],
   "source": [
    "milk_x_ds = pd.DataFrame(data=dataset, columns=['pH', 'Temprature', 'Taste', 'Odor', 'Turbidity', 'Colour'])\n",
    "milk_x_ds"
   ]
  },
  {
   "cell_type": "code",
   "execution_count": 12,
   "id": "cb82838a",
   "metadata": {},
   "outputs": [
    {
     "data": {
      "text/html": [
       "<div>\n",
       "<style scoped>\n",
       "    .dataframe tbody tr th:only-of-type {\n",
       "        vertical-align: middle;\n",
       "    }\n",
       "\n",
       "    .dataframe tbody tr th {\n",
       "        vertical-align: top;\n",
       "    }\n",
       "\n",
       "    .dataframe thead th {\n",
       "        text-align: right;\n",
       "    }\n",
       "</style>\n",
       "<table border=\"1\" class=\"dataframe\">\n",
       "  <thead>\n",
       "    <tr style=\"text-align: right;\">\n",
       "      <th></th>\n",
       "      <th>Grade</th>\n",
       "    </tr>\n",
       "  </thead>\n",
       "  <tbody>\n",
       "    <tr>\n",
       "      <th>0</th>\n",
       "      <td>high</td>\n",
       "    </tr>\n",
       "    <tr>\n",
       "      <th>1</th>\n",
       "      <td>high</td>\n",
       "    </tr>\n",
       "    <tr>\n",
       "      <th>2</th>\n",
       "      <td>low</td>\n",
       "    </tr>\n",
       "    <tr>\n",
       "      <th>3</th>\n",
       "      <td>low</td>\n",
       "    </tr>\n",
       "    <tr>\n",
       "      <th>4</th>\n",
       "      <td>medium</td>\n",
       "    </tr>\n",
       "    <tr>\n",
       "      <th>...</th>\n",
       "      <td>...</td>\n",
       "    </tr>\n",
       "    <tr>\n",
       "      <th>1054</th>\n",
       "      <td>medium</td>\n",
       "    </tr>\n",
       "    <tr>\n",
       "      <th>1055</th>\n",
       "      <td>high</td>\n",
       "    </tr>\n",
       "    <tr>\n",
       "      <th>1056</th>\n",
       "      <td>low</td>\n",
       "    </tr>\n",
       "    <tr>\n",
       "      <th>1057</th>\n",
       "      <td>high</td>\n",
       "    </tr>\n",
       "    <tr>\n",
       "      <th>1058</th>\n",
       "      <td>low</td>\n",
       "    </tr>\n",
       "  </tbody>\n",
       "</table>\n",
       "<p>1059 rows × 1 columns</p>\n",
       "</div>"
      ],
      "text/plain": [
       "       Grade\n",
       "0       high\n",
       "1       high\n",
       "2        low\n",
       "3        low\n",
       "4     medium\n",
       "...      ...\n",
       "1054  medium\n",
       "1055    high\n",
       "1056     low\n",
       "1057    high\n",
       "1058     low\n",
       "\n",
       "[1059 rows x 1 columns]"
      ]
     },
     "execution_count": 12,
     "metadata": {},
     "output_type": "execute_result"
    }
   ],
   "source": [
    "milk_y_ds = pd.DataFrame(data=dataset, columns=['Grade'])\n",
    "milk_y_ds"
   ]
  },
  {
   "cell_type": "code",
   "execution_count": 13,
   "id": "6f69ca38",
   "metadata": {},
   "outputs": [
    {
     "data": {
      "text/plain": [
       "<StringArray>\n",
       "[  'high',   'high',    'low',    'low', 'medium',   'high',    'low',\n",
       "    'low',    'low', 'medium',\n",
       " ...\n",
       " 'medium',   'high',    'low', 'medium',    'low', 'medium',   'high',\n",
       "    'low',   'high',    'low']\n",
       "Length: 1059, dtype: string"
      ]
     },
     "execution_count": 13,
     "metadata": {},
     "output_type": "execute_result"
    }
   ],
   "source": [
    "y = dataset.iloc[:, -1].values\n",
    "y"
   ]
  },
  {
   "cell_type": "code",
   "execution_count": 14,
   "id": "b38089e4",
   "metadata": {},
   "outputs": [
    {
     "data": {
      "text/html": [
       "<div>\n",
       "<style scoped>\n",
       "    .dataframe tbody tr th:only-of-type {\n",
       "        vertical-align: middle;\n",
       "    }\n",
       "\n",
       "    .dataframe tbody tr th {\n",
       "        vertical-align: top;\n",
       "    }\n",
       "\n",
       "    .dataframe thead th {\n",
       "        text-align: right;\n",
       "    }\n",
       "</style>\n",
       "<table border=\"1\" class=\"dataframe\">\n",
       "  <thead>\n",
       "    <tr style=\"text-align: right;\">\n",
       "      <th></th>\n",
       "      <th>pH</th>\n",
       "      <th>Temprature</th>\n",
       "      <th>Taste</th>\n",
       "      <th>Odor</th>\n",
       "      <th>Turbidity</th>\n",
       "      <th>Colour</th>\n",
       "      <th>Grade</th>\n",
       "    </tr>\n",
       "  </thead>\n",
       "  <tbody>\n",
       "    <tr>\n",
       "      <th>0</th>\n",
       "      <td>6.6</td>\n",
       "      <td>35</td>\n",
       "      <td>1</td>\n",
       "      <td>0</td>\n",
       "      <td>0</td>\n",
       "      <td>254</td>\n",
       "      <td>high</td>\n",
       "    </tr>\n",
       "    <tr>\n",
       "      <th>1</th>\n",
       "      <td>6.6</td>\n",
       "      <td>36</td>\n",
       "      <td>0</td>\n",
       "      <td>1</td>\n",
       "      <td>1</td>\n",
       "      <td>253</td>\n",
       "      <td>high</td>\n",
       "    </tr>\n",
       "    <tr>\n",
       "      <th>2</th>\n",
       "      <td>8.5</td>\n",
       "      <td>70</td>\n",
       "      <td>1</td>\n",
       "      <td>1</td>\n",
       "      <td>1</td>\n",
       "      <td>246</td>\n",
       "      <td>low</td>\n",
       "    </tr>\n",
       "    <tr>\n",
       "      <th>3</th>\n",
       "      <td>9.5</td>\n",
       "      <td>34</td>\n",
       "      <td>1</td>\n",
       "      <td>1</td>\n",
       "      <td>1</td>\n",
       "      <td>255</td>\n",
       "      <td>low</td>\n",
       "    </tr>\n",
       "    <tr>\n",
       "      <th>4</th>\n",
       "      <td>6.6</td>\n",
       "      <td>37</td>\n",
       "      <td>0</td>\n",
       "      <td>0</td>\n",
       "      <td>0</td>\n",
       "      <td>255</td>\n",
       "      <td>medium</td>\n",
       "    </tr>\n",
       "    <tr>\n",
       "      <th>...</th>\n",
       "      <td>...</td>\n",
       "      <td>...</td>\n",
       "      <td>...</td>\n",
       "      <td>...</td>\n",
       "      <td>...</td>\n",
       "      <td>...</td>\n",
       "      <td>...</td>\n",
       "    </tr>\n",
       "    <tr>\n",
       "      <th>1054</th>\n",
       "      <td>6.7</td>\n",
       "      <td>45</td>\n",
       "      <td>1</td>\n",
       "      <td>1</td>\n",
       "      <td>0</td>\n",
       "      <td>247</td>\n",
       "      <td>medium</td>\n",
       "    </tr>\n",
       "    <tr>\n",
       "      <th>1055</th>\n",
       "      <td>6.7</td>\n",
       "      <td>38</td>\n",
       "      <td>1</td>\n",
       "      <td>0</td>\n",
       "      <td>0</td>\n",
       "      <td>255</td>\n",
       "      <td>high</td>\n",
       "    </tr>\n",
       "    <tr>\n",
       "      <th>1056</th>\n",
       "      <td>3.0</td>\n",
       "      <td>40</td>\n",
       "      <td>1</td>\n",
       "      <td>1</td>\n",
       "      <td>1</td>\n",
       "      <td>255</td>\n",
       "      <td>low</td>\n",
       "    </tr>\n",
       "    <tr>\n",
       "      <th>1057</th>\n",
       "      <td>6.8</td>\n",
       "      <td>43</td>\n",
       "      <td>1</td>\n",
       "      <td>0</td>\n",
       "      <td>0</td>\n",
       "      <td>250</td>\n",
       "      <td>high</td>\n",
       "    </tr>\n",
       "    <tr>\n",
       "      <th>1058</th>\n",
       "      <td>8.6</td>\n",
       "      <td>55</td>\n",
       "      <td>0</td>\n",
       "      <td>1</td>\n",
       "      <td>1</td>\n",
       "      <td>255</td>\n",
       "      <td>low</td>\n",
       "    </tr>\n",
       "  </tbody>\n",
       "</table>\n",
       "<p>1059 rows × 7 columns</p>\n",
       "</div>"
      ],
      "text/plain": [
       "       pH  Temprature  Taste  Odor  Turbidity  Colour   Grade\n",
       "0     6.6          35      1     0          0     254    high\n",
       "1     6.6          36      0     1          1     253    high\n",
       "2     8.5          70      1     1          1     246     low\n",
       "3     9.5          34      1     1          1     255     low\n",
       "4     6.6          37      0     0          0     255  medium\n",
       "...   ...         ...    ...   ...        ...     ...     ...\n",
       "1054  6.7          45      1     1          0     247  medium\n",
       "1055  6.7          38      1     0          0     255    high\n",
       "1056  3.0          40      1     1          1     255     low\n",
       "1057  6.8          43      1     0          0     250    high\n",
       "1058  8.6          55      0     1          1     255     low\n",
       "\n",
       "[1059 rows x 7 columns]"
      ]
     },
     "execution_count": 14,
     "metadata": {},
     "output_type": "execute_result"
    }
   ],
   "source": [
    "milk_ds = pd.DataFrame(data=dataset, columns=['pH', 'Temprature', 'Taste', 'Odor', 'Turbidity', 'Colour', 'Grade'])\n",
    "milk_ds"
   ]
  },
  {
   "cell_type": "code",
   "execution_count": 15,
   "id": "c30e1dc4",
   "metadata": {},
   "outputs": [
    {
     "name": "stderr",
     "output_type": "stream",
     "text": [
      "C:\\PycharmProjects\\OAD_NIRS\\venv\\lib\\site-packages\\sklearn\\ensemble\\_bagging.py:707: UserWarning: Some inputs do not have OOB scores. This probably means too few estimators were used to compute any reliable oob estimates.\n",
      "  \"Some inputs do not have OOB scores. \"\n",
      "C:\\PycharmProjects\\OAD_NIRS\\venv\\lib\\site-packages\\sklearn\\ensemble\\_bagging.py:712: RuntimeWarning: invalid value encountered in true_divide\n",
      "  oob_decision_function = predictions / predictions.sum(axis=1)[:, np.newaxis]\n"
     ]
    },
    {
     "data": {
      "text/plain": [
       "BaggingClassifier(n_estimators=5, oob_score=True, random_state=10)"
      ]
     },
     "execution_count": 15,
     "metadata": {},
     "output_type": "execute_result"
    }
   ],
   "source": [
    "# Обучим классификатор на 5 деревьях\n",
    "bc1 = BaggingClassifier(n_estimators=5, oob_score=True, random_state=10)\n",
    "bc1.fit(milk_x_ds, y)"
   ]
  },
  {
   "cell_type": "code",
   "execution_count": 16,
   "id": "c54f86fe",
   "metadata": {},
   "outputs": [
    {
     "data": {
      "text/html": [
       "<pre>|--- Temprature <= 47.50\n",
       "|   |--- pH <= 6.00\n",
       "|   |   |--- class: 1\n",
       "|   |--- pH >  6.00\n",
       "|   |   |--- Turbidity <= 0.50\n",
       "|   |   |   |--- pH <= 6.55\n",
       "|   |   |   |   |--- Odor <= 0.50\n",
       "|   |   |   |   |   |--- class: 2\n",
       "|   |   |   |   |--- Odor >  0.50\n",
       "|   |   |   |   |   |--- class: 0\n",
       "|   |   |   |--- pH >  6.55\n",
       "|   |   |   |   |--- Temprature <= 39.00\n",
       "|   |   |   |   |   |--- Taste <= 0.50\n",
       "|   |   |   |   |   |   |--- Colour <= 254.00\n",
       "|   |   |   |   |   |   |   |--- class: 0\n",
       "|   |   |   |   |   |   |--- Colour >  254.00\n",
       "|   |   |   |   |   |   |   |--- class: 2\n",
       "|   |   |   |   |   |--- Taste >  0.50\n",
       "|   |   |   |   |   |   |--- Colour <= 250.50\n",
       "|   |   |   |   |   |   |   |--- class: 2\n",
       "|   |   |   |   |   |   |--- Colour >  250.50\n",
       "|   |   |   |   |   |   |   |--- class: 0\n",
       "|   |   |   |   |--- Temprature >  39.00\n",
       "|   |   |   |   |   |--- Temprature <= 42.00\n",
       "|   |   |   |   |   |   |--- Odor <= 0.50\n",
       "|   |   |   |   |   |   |   |--- class: 2\n",
       "|   |   |   |   |   |   |--- Odor >  0.50\n",
       "|   |   |   |   |   |   |   |--- class: 0\n",
       "|   |   |   |   |   |--- Temprature >  42.00\n",
       "|   |   |   |   |   |   |--- pH <= 6.75\n",
       "|   |   |   |   |   |   |   |--- class: 2\n",
       "|   |   |   |   |   |   |--- pH >  6.75\n",
       "|   |   |   |   |   |   |   |--- Taste <= 0.50\n",
       "|   |   |   |   |   |   |   |   |--- class: 2\n",
       "|   |   |   |   |   |   |   |--- Taste >  0.50\n",
       "|   |   |   |   |   |   |   |   |--- class: 0\n",
       "|   |   |--- Turbidity >  0.50\n",
       "|   |   |   |--- pH <= 7.90\n",
       "|   |   |   |   |--- Odor <= 0.50\n",
       "|   |   |   |   |   |--- Taste <= 0.50\n",
       "|   |   |   |   |   |   |--- class: 2\n",
       "|   |   |   |   |   |--- Taste >  0.50\n",
       "|   |   |   |   |   |   |--- Temprature <= 44.00\n",
       "|   |   |   |   |   |   |   |--- class: 0\n",
       "|   |   |   |   |   |   |--- Temprature >  44.00\n",
       "|   |   |   |   |   |   |   |--- class: 2\n",
       "|   |   |   |   |--- Odor >  0.50\n",
       "|   |   |   |   |   |--- pH <= 6.55\n",
       "|   |   |   |   |   |   |--- Taste <= 0.50\n",
       "|   |   |   |   |   |   |   |--- class: 1\n",
       "|   |   |   |   |   |   |--- Taste >  0.50\n",
       "|   |   |   |   |   |   |   |--- class: 0\n",
       "|   |   |   |   |   |--- pH >  6.55\n",
       "|   |   |   |   |   |   |--- class: 0\n",
       "|   |   |   |--- pH >  7.90\n",
       "|   |   |   |   |--- class: 1\n",
       "|--- Temprature >  47.50\n",
       "|   |--- class: 1\n",
       "</pre>"
      ],
      "text/plain": [
       "<IPython.core.display.HTML object>"
      ]
     },
     "execution_count": 16,
     "metadata": {},
     "output_type": "execute_result"
    }
   ],
   "source": [
    "tree_rules = export_text(bc1[0], feature_names=list(milk_x_ds.columns))\n",
    "HTML('<pre>' + tree_rules + '</pre>')"
   ]
  },
  {
   "cell_type": "code",
   "execution_count": 17,
   "id": "3c1c2f9b",
   "metadata": {},
   "outputs": [
    {
     "data": {
      "text/html": [
       "<pre>|--- pH <= 7.10\n",
       "|   |--- pH <= 6.05\n",
       "|   |   |--- class: 1\n",
       "|   |--- pH >  6.05\n",
       "|   |   |--- Odor <= 0.50\n",
       "|   |   |   |--- Temprature <= 47.50\n",
       "|   |   |   |   |--- Taste <= 0.50\n",
       "|   |   |   |   |   |--- class: 2\n",
       "|   |   |   |   |--- Taste >  0.50\n",
       "|   |   |   |   |   |--- pH <= 6.55\n",
       "|   |   |   |   |   |   |--- class: 2\n",
       "|   |   |   |   |   |--- pH >  6.55\n",
       "|   |   |   |   |   |   |--- Colour <= 248.50\n",
       "|   |   |   |   |   |   |   |--- class: 2\n",
       "|   |   |   |   |   |   |--- Colour >  248.50\n",
       "|   |   |   |   |   |   |   |--- Temprature <= 44.00\n",
       "|   |   |   |   |   |   |   |   |--- Temprature <= 39.00\n",
       "|   |   |   |   |   |   |   |   |   |--- class: 0\n",
       "|   |   |   |   |   |   |   |   |--- Temprature >  39.00\n",
       "|   |   |   |   |   |   |   |   |   |--- Colour <= 252.50\n",
       "|   |   |   |   |   |   |   |   |   |   |--- class: 0\n",
       "|   |   |   |   |   |   |   |   |   |--- Colour >  252.50\n",
       "|   |   |   |   |   |   |   |   |   |   |--- Turbidity <= 0.50\n",
       "|   |   |   |   |   |   |   |   |   |   |   |--- class: 2\n",
       "|   |   |   |   |   |   |   |   |   |   |--- Turbidity >  0.50\n",
       "|   |   |   |   |   |   |   |   |   |   |   |--- class: 0\n",
       "|   |   |   |   |   |   |   |--- Temprature >  44.00\n",
       "|   |   |   |   |   |   |   |   |--- class: 2\n",
       "|   |   |   |--- Temprature >  47.50\n",
       "|   |   |   |   |--- class: 1\n",
       "|   |   |--- Odor >  0.50\n",
       "|   |   |   |--- Turbidity <= 0.50\n",
       "|   |   |   |   |--- pH <= 6.75\n",
       "|   |   |   |   |   |--- Temprature <= 47.50\n",
       "|   |   |   |   |   |   |--- Temprature <= 40.50\n",
       "|   |   |   |   |   |   |   |--- class: 0\n",
       "|   |   |   |   |   |   |--- Temprature >  40.50\n",
       "|   |   |   |   |   |   |   |--- class: 2\n",
       "|   |   |   |   |   |--- Temprature >  47.50\n",
       "|   |   |   |   |   |   |--- class: 1\n",
       "|   |   |   |   |--- pH >  6.75\n",
       "|   |   |   |   |   |--- Colour <= 242.50\n",
       "|   |   |   |   |   |   |--- class: 2\n",
       "|   |   |   |   |   |--- Colour >  242.50\n",
       "|   |   |   |   |   |   |--- class: 0\n",
       "|   |   |   |--- Turbidity >  0.50\n",
       "|   |   |   |   |--- pH <= 6.55\n",
       "|   |   |   |   |   |--- Taste <= 0.50\n",
       "|   |   |   |   |   |   |--- class: 1\n",
       "|   |   |   |   |   |--- Taste >  0.50\n",
       "|   |   |   |   |   |   |--- class: 0\n",
       "|   |   |   |   |--- pH >  6.55\n",
       "|   |   |   |   |   |--- class: 0\n",
       "|--- pH >  7.10\n",
       "|   |--- class: 1\n",
       "</pre>"
      ],
      "text/plain": [
       "<IPython.core.display.HTML object>"
      ]
     },
     "execution_count": 17,
     "metadata": {},
     "output_type": "execute_result"
    }
   ],
   "source": [
    "tree_rules = export_text(bc1[1], feature_names=list(milk_x_ds.columns))\n",
    "HTML('<pre>' + tree_rules + '</pre>')"
   ]
  },
  {
   "cell_type": "code",
   "execution_count": 18,
   "id": "88189c90",
   "metadata": {},
   "outputs": [
    {
     "data": {
      "text/html": [
       "<pre>|--- pH <= 7.10\n",
       "|   |--- pH <= 6.05\n",
       "|   |   |--- class: 1\n",
       "|   |--- pH >  6.05\n",
       "|   |   |--- Odor <= 0.50\n",
       "|   |   |   |--- Temprature <= 47.50\n",
       "|   |   |   |   |--- Taste <= 0.50\n",
       "|   |   |   |   |   |--- class: 2\n",
       "|   |   |   |   |--- Taste >  0.50\n",
       "|   |   |   |   |   |--- pH <= 6.55\n",
       "|   |   |   |   |   |   |--- class: 2\n",
       "|   |   |   |   |   |--- pH >  6.55\n",
       "|   |   |   |   |   |   |--- Colour <= 248.50\n",
       "|   |   |   |   |   |   |   |--- class: 2\n",
       "|   |   |   |   |   |   |--- Colour >  248.50\n",
       "|   |   |   |   |   |   |   |--- Temprature <= 44.00\n",
       "|   |   |   |   |   |   |   |   |--- Temprature <= 39.00\n",
       "|   |   |   |   |   |   |   |   |   |--- class: 0\n",
       "|   |   |   |   |   |   |   |   |--- Temprature >  39.00\n",
       "|   |   |   |   |   |   |   |   |   |--- Colour <= 252.50\n",
       "|   |   |   |   |   |   |   |   |   |   |--- class: 0\n",
       "|   |   |   |   |   |   |   |   |   |--- Colour >  252.50\n",
       "|   |   |   |   |   |   |   |   |   |   |--- Turbidity <= 0.50\n",
       "|   |   |   |   |   |   |   |   |   |   |   |--- class: 2\n",
       "|   |   |   |   |   |   |   |   |   |   |--- Turbidity >  0.50\n",
       "|   |   |   |   |   |   |   |   |   |   |   |--- class: 0\n",
       "|   |   |   |   |   |   |   |--- Temprature >  44.00\n",
       "|   |   |   |   |   |   |   |   |--- class: 2\n",
       "|   |   |   |--- Temprature >  47.50\n",
       "|   |   |   |   |--- class: 1\n",
       "|   |   |--- Odor >  0.50\n",
       "|   |   |   |--- Turbidity <= 0.50\n",
       "|   |   |   |   |--- pH <= 6.75\n",
       "|   |   |   |   |   |--- Temprature <= 47.50\n",
       "|   |   |   |   |   |   |--- class: 2\n",
       "|   |   |   |   |   |--- Temprature >  47.50\n",
       "|   |   |   |   |   |   |--- class: 1\n",
       "|   |   |   |   |--- pH >  6.75\n",
       "|   |   |   |   |   |--- Colour <= 242.50\n",
       "|   |   |   |   |   |   |--- class: 2\n",
       "|   |   |   |   |   |--- Colour >  242.50\n",
       "|   |   |   |   |   |   |--- class: 0\n",
       "|   |   |   |--- Turbidity >  0.50\n",
       "|   |   |   |   |--- Colour <= 247.50\n",
       "|   |   |   |   |   |--- Taste <= 0.50\n",
       "|   |   |   |   |   |   |--- class: 1\n",
       "|   |   |   |   |   |--- Taste >  0.50\n",
       "|   |   |   |   |   |   |--- class: 0\n",
       "|   |   |   |   |--- Colour >  247.50\n",
       "|   |   |   |   |   |--- class: 0\n",
       "|--- pH >  7.10\n",
       "|   |--- class: 1\n",
       "</pre>"
      ],
      "text/plain": [
       "<IPython.core.display.HTML object>"
      ]
     },
     "execution_count": 18,
     "metadata": {},
     "output_type": "execute_result"
    }
   ],
   "source": [
    "tree_rules = export_text(bc1[2], feature_names=list(milk_x_ds.columns))\n",
    "HTML('<pre>' + tree_rules + '</pre>')"
   ]
  },
  {
   "cell_type": "code",
   "execution_count": 19,
   "id": "bbfa352c",
   "metadata": {},
   "outputs": [
    {
     "data": {
      "text/plain": [
       "[array([910, 138, 766, ..., 387, 881,  66]),\n",
       " array([814, 482, 861, ..., 750, 335,  65]),\n",
       " array([ 643,  332, 1022, ...,  894,  426,  540]),\n",
       " array([916, 598, 990, ..., 609,  63, 663]),\n",
       " array([656, 741, 201, ..., 288, 156, 636])]"
      ]
     },
     "execution_count": 19,
     "metadata": {},
     "output_type": "execute_result"
    }
   ],
   "source": [
    "# Какие объекты были использованы в обучающей выборке каждого дерева\n",
    "bc1.estimators_samples_"
   ]
  },
  {
   "cell_type": "code",
   "execution_count": 20,
   "id": "807ea316",
   "metadata": {},
   "outputs": [
    {
     "data": {
      "text/plain": [
       "array([[0., 0., 0., ..., 0., 1., 0.],\n",
       "       [0., 1., 0., ..., 1., 1., 1.],\n",
       "       [1., 1., 1., ..., 0., 1., 1.],\n",
       "       [1., 0., 1., ..., 0., 1., 1.],\n",
       "       [1., 0., 1., ..., 0., 1., 1.]])"
      ]
     },
     "execution_count": 20,
     "metadata": {},
     "output_type": "execute_result"
    }
   ],
   "source": [
    "# Сконвертируем эти данные в двоичную матрицу, \n",
    "# 1 соответствует элементам, попавшим в обучающую выборку\n",
    "bin_array = np.zeros((5, milk_x_ds.shape[0]))\n",
    "for i in range(5):\n",
    "    for j in bc1.estimators_samples_[i]:\n",
    "        bin_array[i][j] = 1\n",
    "bin_array"
   ]
  },
  {
   "cell_type": "code",
   "execution_count": 21,
   "id": "7fa74a79",
   "metadata": {},
   "outputs": [
    {
     "name": "stdout",
     "output_type": "stream",
     "text": [
      "Для модели № 1 размер OOB составляет 35.980000000000004%\n",
      "Для модели № 2 размер OOB составляет 35.69%\n",
      "Для модели № 3 размер OOB составляет 37.11%\n",
      "Для модели № 4 размер OOB составляет 37.96%\n",
      "Для модели № 5 размер OOB составляет 36.919999999999995%\n"
     ]
    }
   ],
   "source": [
    "# Оценим Out-of-bag error, теоретическое значение 37%\n",
    "for i in range(5):\n",
    "    cur_data = bin_array[i]\n",
    "    len_cur_data = len(cur_data)\n",
    "    sum_cur_data = sum(cur_data)\n",
    "    (len(bin_array[0]) - sum(bin_array[0])) / len(bin_array[0])\n",
    "    oob_i = (len_cur_data - sum_cur_data) / len_cur_data\n",
    "    print('Для модели № {} размер OOB составляет {}%'.format(i+1, round(oob_i, 4)*100.0))"
   ]
  },
  {
   "cell_type": "code",
   "execution_count": 22,
   "id": "177523ca",
   "metadata": {},
   "outputs": [
    {
     "data": {
      "text/plain": [
       "(0.9131255901794145, 0.08687440982058547)"
      ]
     },
     "execution_count": 22,
     "metadata": {},
     "output_type": "execute_result"
    }
   ],
   "source": [
    "# Out-of-bag error, возвращаемый классификатором\n",
    "# Для классификации используется метрика accuracy\n",
    "bc1.oob_score_, 1-bc1.oob_score_"
   ]
  },
  {
   "cell_type": "code",
   "execution_count": 23,
   "id": "8d40fdfc",
   "metadata": {},
   "outputs": [
    {
     "data": {
      "text/plain": [
       "array([[nan, nan, nan],\n",
       "       [nan, nan, nan],\n",
       "       [ 0.,  1.,  0.],\n",
       "       [ 0.,  1.,  0.],\n",
       "       [ 0.,  0.,  1.],\n",
       "       [ 0.,  0.,  1.],\n",
       "       [ 1.,  0.,  0.],\n",
       "       [ 0.,  1.,  0.],\n",
       "       [nan, nan, nan],\n",
       "       [ 0.,  1.,  0.],\n",
       "       [ 0.,  0.,  1.],\n",
       "       [ 1.,  0.,  0.],\n",
       "       [ 0.,  0.,  1.],\n",
       "       [nan, nan, nan],\n",
       "       [ 0.,  1.,  0.]])"
      ]
     },
     "execution_count": 23,
     "metadata": {},
     "output_type": "execute_result"
    }
   ],
   "source": [
    "# Параметр oob_decision_function_ возвращает вероятности \n",
    "# принадлежности объекта к классам на основе oob\n",
    "# В данном примере три класса, \n",
    "# значения nan могут возвращаться в случае маленькой выборки\n",
    "bc1.oob_decision_function_[55:70]"
   ]
  },
  {
   "cell_type": "code",
   "execution_count": 24,
   "id": "0e19c2f8",
   "metadata": {},
   "outputs": [],
   "source": [
    "# Визуализация обученных решающих деревьев\n",
    "# Image(get_png_tree(bc1.estimators_[0], milk_x_ds.columns), width='80%')"
   ]
  },
  {
   "cell_type": "code",
   "execution_count": 25,
   "id": "8530ac84",
   "metadata": {},
   "outputs": [],
   "source": [
    "###############\n",
    "###############\n",
    "###############\n",
    "###############\n",
    "###############"
   ]
  },
  {
   "cell_type": "code",
   "execution_count": 26,
   "id": "3c4b612f",
   "metadata": {},
   "outputs": [
    {
     "name": "stderr",
     "output_type": "stream",
     "text": [
      "C:\\PycharmProjects\\OAD_NIRS\\venv\\lib\\site-packages\\sklearn\\ensemble\\_forest.py:564: UserWarning: Some inputs do not have OOB scores. This probably means too few trees were used to compute any reliable OOB estimates.\n",
      "  UserWarning,\n"
     ]
    },
    {
     "data": {
      "text/plain": [
       "RandomForestClassifier(n_estimators=5, oob_score=True, random_state=10)"
      ]
     },
     "execution_count": 26,
     "metadata": {},
     "output_type": "execute_result"
    }
   ],
   "source": [
    "# Обучим классификатор на 5 деревьях\n",
    "tree1 = RandomForestClassifier(n_estimators=5, oob_score=True, random_state=10)\n",
    "tree1.fit(milk_x_ds, y)"
   ]
  },
  {
   "cell_type": "code",
   "execution_count": 27,
   "id": "c60ce786",
   "metadata": {},
   "outputs": [
    {
     "data": {
      "text/html": [
       "<pre>|--- Temprature <= 47.50\n",
       "|   |--- pH <= 6.00\n",
       "|   |   |--- class: 1.0\n",
       "|   |--- pH >  6.00\n",
       "|   |   |--- Turbidity <= 0.50\n",
       "|   |   |   |--- pH <= 6.55\n",
       "|   |   |   |   |--- Odor <= 0.50\n",
       "|   |   |   |   |   |--- class: 2.0\n",
       "|   |   |   |   |--- Odor >  0.50\n",
       "|   |   |   |   |   |--- class: 0.0\n",
       "|   |   |   |--- pH >  6.55\n",
       "|   |   |   |   |--- Odor <= 0.50\n",
       "|   |   |   |   |   |--- Temprature <= 39.00\n",
       "|   |   |   |   |   |   |--- pH <= 6.75\n",
       "|   |   |   |   |   |   |   |--- pH <= 6.65\n",
       "|   |   |   |   |   |   |   |   |--- Temprature <= 37.50\n",
       "|   |   |   |   |   |   |   |   |   |--- Taste <= 0.50\n",
       "|   |   |   |   |   |   |   |   |   |   |--- class: 2.0\n",
       "|   |   |   |   |   |   |   |   |   |--- Taste >  0.50\n",
       "|   |   |   |   |   |   |   |   |   |   |--- class: 0.0\n",
       "|   |   |   |   |   |   |   |   |--- Temprature >  37.50\n",
       "|   |   |   |   |   |   |   |   |   |--- Taste <= 0.50\n",
       "|   |   |   |   |   |   |   |   |   |   |--- class: 2.0\n",
       "|   |   |   |   |   |   |   |   |   |--- Taste >  0.50\n",
       "|   |   |   |   |   |   |   |   |   |   |--- class: 0.0\n",
       "|   |   |   |   |   |   |   |--- pH >  6.65\n",
       "|   |   |   |   |   |   |   |   |--- class: 0.0\n",
       "|   |   |   |   |   |   |--- pH >  6.75\n",
       "|   |   |   |   |   |   |   |--- class: 2.0\n",
       "|   |   |   |   |   |--- Temprature >  39.00\n",
       "|   |   |   |   |   |   |--- Taste <= 0.50\n",
       "|   |   |   |   |   |   |   |--- class: 2.0\n",
       "|   |   |   |   |   |   |--- Taste >  0.50\n",
       "|   |   |   |   |   |   |   |--- Colour <= 248.50\n",
       "|   |   |   |   |   |   |   |   |--- class: 2.0\n",
       "|   |   |   |   |   |   |   |--- Colour >  248.50\n",
       "|   |   |   |   |   |   |   |   |--- pH <= 6.70\n",
       "|   |   |   |   |   |   |   |   |   |--- class: 2.0\n",
       "|   |   |   |   |   |   |   |   |--- pH >  6.70\n",
       "|   |   |   |   |   |   |   |   |   |--- class: 0.0\n",
       "|   |   |   |   |--- Odor >  0.50\n",
       "|   |   |   |   |   |--- pH <= 6.75\n",
       "|   |   |   |   |   |   |--- class: 2.0\n",
       "|   |   |   |   |   |--- pH >  6.75\n",
       "|   |   |   |   |   |   |--- Colour <= 242.50\n",
       "|   |   |   |   |   |   |   |--- class: 2.0\n",
       "|   |   |   |   |   |   |--- Colour >  242.50\n",
       "|   |   |   |   |   |   |   |--- class: 0.0\n",
       "|   |   |--- Turbidity >  0.50\n",
       "|   |   |   |--- Odor <= 0.50\n",
       "|   |   |   |   |--- Colour <= 245.00\n",
       "|   |   |   |   |   |--- class: 2.0\n",
       "|   |   |   |   |--- Colour >  245.00\n",
       "|   |   |   |   |   |--- Temprature <= 44.00\n",
       "|   |   |   |   |   |   |--- Temprature <= 41.50\n",
       "|   |   |   |   |   |   |   |--- class: 0.0\n",
       "|   |   |   |   |   |   |--- Temprature >  41.50\n",
       "|   |   |   |   |   |   |   |--- pH <= 7.80\n",
       "|   |   |   |   |   |   |   |   |--- class: 0.0\n",
       "|   |   |   |   |   |   |   |--- pH >  7.80\n",
       "|   |   |   |   |   |   |   |   |--- class: 1.0\n",
       "|   |   |   |   |   |--- Temprature >  44.00\n",
       "|   |   |   |   |   |   |--- class: 2.0\n",
       "|   |   |   |--- Odor >  0.50\n",
       "|   |   |   |   |--- pH <= 7.90\n",
       "|   |   |   |   |   |--- Temprature <= 37.50\n",
       "|   |   |   |   |   |   |--- Temprature <= 36.00\n",
       "|   |   |   |   |   |   |   |--- class: 0.0\n",
       "|   |   |   |   |   |   |--- Temprature >  36.00\n",
       "|   |   |   |   |   |   |   |--- pH <= 6.55\n",
       "|   |   |   |   |   |   |   |   |--- class: 1.0\n",
       "|   |   |   |   |   |   |   |--- pH >  6.55\n",
       "|   |   |   |   |   |   |   |   |--- class: 0.0\n",
       "|   |   |   |   |   |--- Temprature >  37.50\n",
       "|   |   |   |   |   |   |--- Taste <= 0.50\n",
       "|   |   |   |   |   |   |   |--- Colour <= 252.50\n",
       "|   |   |   |   |   |   |   |   |--- Temprature <= 42.50\n",
       "|   |   |   |   |   |   |   |   |   |--- class: 1.0\n",
       "|   |   |   |   |   |   |   |   |--- Temprature >  42.50\n",
       "|   |   |   |   |   |   |   |   |   |--- class: 0.0\n",
       "|   |   |   |   |   |   |   |--- Colour >  252.50\n",
       "|   |   |   |   |   |   |   |   |--- class: 0.0\n",
       "|   |   |   |   |   |   |--- Taste >  0.50\n",
       "|   |   |   |   |   |   |   |--- class: 0.0\n",
       "|   |   |   |   |--- pH >  7.90\n",
       "|   |   |   |   |   |--- class: 1.0\n",
       "|--- Temprature >  47.50\n",
       "|   |--- class: 1.0\n",
       "</pre>"
      ],
      "text/plain": [
       "<IPython.core.display.HTML object>"
      ]
     },
     "execution_count": 27,
     "metadata": {},
     "output_type": "execute_result"
    }
   ],
   "source": [
    "tree_rules2 = export_text(tree1[0], feature_names=list(milk_x_ds.columns))\n",
    "HTML('<pre>' + tree_rules2 + '</pre>')"
   ]
  },
  {
   "cell_type": "code",
   "execution_count": 28,
   "id": "d964be81",
   "metadata": {},
   "outputs": [
    {
     "data": {
      "text/html": [
       "<pre>|--- Odor <= 0.50\n",
       "|   |--- Temprature <= 47.50\n",
       "|   |   |--- pH <= 6.00\n",
       "|   |   |   |--- class: 1.0\n",
       "|   |   |--- pH >  6.00\n",
       "|   |   |   |--- Temprature <= 42.00\n",
       "|   |   |   |   |--- Colour <= 252.50\n",
       "|   |   |   |   |   |--- class: 2.0\n",
       "|   |   |   |   |--- Colour >  252.50\n",
       "|   |   |   |   |   |--- Taste <= 0.50\n",
       "|   |   |   |   |   |   |--- class: 2.0\n",
       "|   |   |   |   |   |--- Taste >  0.50\n",
       "|   |   |   |   |   |   |--- Temprature <= 37.50\n",
       "|   |   |   |   |   |   |   |--- class: 0.0\n",
       "|   |   |   |   |   |   |--- Temprature >  37.50\n",
       "|   |   |   |   |   |   |   |--- Turbidity <= 0.50\n",
       "|   |   |   |   |   |   |   |   |--- Temprature <= 39.00\n",
       "|   |   |   |   |   |   |   |   |   |--- pH <= 6.55\n",
       "|   |   |   |   |   |   |   |   |   |   |--- class: 2.0\n",
       "|   |   |   |   |   |   |   |   |   |--- pH >  6.55\n",
       "|   |   |   |   |   |   |   |   |   |   |--- class: 0.0\n",
       "|   |   |   |   |   |   |   |   |--- Temprature >  39.00\n",
       "|   |   |   |   |   |   |   |   |   |--- class: 2.0\n",
       "|   |   |   |   |   |   |   |--- Turbidity >  0.50\n",
       "|   |   |   |   |   |   |   |   |--- class: 0.0\n",
       "|   |   |   |--- Temprature >  42.00\n",
       "|   |   |   |   |--- Temprature <= 44.00\n",
       "|   |   |   |   |   |--- pH <= 7.90\n",
       "|   |   |   |   |   |   |--- Taste <= 0.50\n",
       "|   |   |   |   |   |   |   |--- class: 2.0\n",
       "|   |   |   |   |   |   |--- Taste >  0.50\n",
       "|   |   |   |   |   |   |   |--- class: 0.0\n",
       "|   |   |   |   |   |--- pH >  7.90\n",
       "|   |   |   |   |   |   |--- class: 1.0\n",
       "|   |   |   |   |--- Temprature >  44.00\n",
       "|   |   |   |   |   |--- class: 2.0\n",
       "|   |--- Temprature >  47.50\n",
       "|   |   |--- class: 1.0\n",
       "|--- Odor >  0.50\n",
       "|   |--- pH <= 7.70\n",
       "|   |   |--- Temprature <= 47.50\n",
       "|   |   |   |--- Turbidity <= 0.50\n",
       "|   |   |   |   |--- Taste <= 0.50\n",
       "|   |   |   |   |   |--- Colour <= 246.50\n",
       "|   |   |   |   |   |   |--- class: 2.0\n",
       "|   |   |   |   |   |--- Colour >  246.50\n",
       "|   |   |   |   |   |   |--- Temprature <= 40.50\n",
       "|   |   |   |   |   |   |   |--- class: 0.0\n",
       "|   |   |   |   |   |   |--- Temprature >  40.50\n",
       "|   |   |   |   |   |   |   |--- class: 2.0\n",
       "|   |   |   |   |--- Taste >  0.50\n",
       "|   |   |   |   |   |--- Colour <= 246.00\n",
       "|   |   |   |   |   |   |--- pH <= 6.75\n",
       "|   |   |   |   |   |   |   |--- class: 2.0\n",
       "|   |   |   |   |   |   |--- pH >  6.75\n",
       "|   |   |   |   |   |   |   |--- class: 0.0\n",
       "|   |   |   |   |   |--- Colour >  246.00\n",
       "|   |   |   |   |   |   |--- Temprature <= 43.00\n",
       "|   |   |   |   |   |   |   |--- class: 0.0\n",
       "|   |   |   |   |   |   |--- Temprature >  43.00\n",
       "|   |   |   |   |   |   |   |--- class: 2.0\n",
       "|   |   |   |--- Turbidity >  0.50\n",
       "|   |   |   |   |--- Taste <= 0.50\n",
       "|   |   |   |   |   |--- Colour <= 247.50\n",
       "|   |   |   |   |   |   |--- class: 1.0\n",
       "|   |   |   |   |   |--- Colour >  247.50\n",
       "|   |   |   |   |   |   |--- pH <= 6.55\n",
       "|   |   |   |   |   |   |   |--- class: 1.0\n",
       "|   |   |   |   |   |   |--- pH >  6.55\n",
       "|   |   |   |   |   |   |   |--- class: 0.0\n",
       "|   |   |   |   |--- Taste >  0.50\n",
       "|   |   |   |   |   |--- pH <= 4.75\n",
       "|   |   |   |   |   |   |--- class: 1.0\n",
       "|   |   |   |   |   |--- pH >  4.75\n",
       "|   |   |   |   |   |   |--- class: 0.0\n",
       "|   |   |--- Temprature >  47.50\n",
       "|   |   |   |--- class: 1.0\n",
       "|   |--- pH >  7.70\n",
       "|   |   |--- class: 1.0\n",
       "</pre>"
      ],
      "text/plain": [
       "<IPython.core.display.HTML object>"
      ]
     },
     "execution_count": 28,
     "metadata": {},
     "output_type": "execute_result"
    }
   ],
   "source": [
    "tree_rules2 = export_text(tree1[1], feature_names=list(milk_x_ds.columns))\n",
    "HTML('<pre>' + tree_rules2 + '</pre>')"
   ]
  },
  {
   "cell_type": "code",
   "execution_count": 29,
   "id": "d3a47257",
   "metadata": {},
   "outputs": [
    {
     "data": {
      "text/plain": [
       "(0.9140698772426817, 0.08593012275731826)"
      ]
     },
     "execution_count": 29,
     "metadata": {},
     "output_type": "execute_result"
    }
   ],
   "source": [
    "# Out-of-bag error, возвращаемый классификатором\n",
    "tree1.oob_score_, 1-tree1.oob_score_"
   ]
  },
  {
   "cell_type": "code",
   "execution_count": 30,
   "id": "74e2c4c0",
   "metadata": {},
   "outputs": [],
   "source": [
    "###############\n",
    "###############\n",
    "###############\n",
    "###############\n",
    "###############"
   ]
  },
  {
   "cell_type": "code",
   "execution_count": 31,
   "id": "5108da45",
   "metadata": {},
   "outputs": [
    {
     "data": {
      "text/plain": [
       "array([[  6.6,  35. ,   1. , ...,   1. ,   0. , 254. ],\n",
       "       [  6.6,  36. ,   0. , ...,   0. ,   1. , 253. ],\n",
       "       [  8.5,  70. ,   1. , ...,   1. ,   1. , 246. ],\n",
       "       ...,\n",
       "       [  3. ,  40. ,   1. , ...,   1. ,   1. , 255. ],\n",
       "       [  6.8,  43. ,   1. , ...,   1. ,   0. , 250. ],\n",
       "       [  8.6,  55. ,   0. , ...,   1. ,   1. , 255. ]])"
      ]
     },
     "execution_count": 31,
     "metadata": {},
     "output_type": "execute_result"
    }
   ],
   "source": [
    "X = dataset.iloc[:, :-1].values\n",
    "X"
   ]
  },
  {
   "cell_type": "code",
   "execution_count": 32,
   "id": "2295cff8",
   "metadata": {},
   "outputs": [],
   "source": [
    "milk_X_train, milk_X_test, milk_y_train, milk_y_test = train_test_split(\n",
    "    X, \n",
    "    milk_ds['Grade'], test_size=0.1, random_state=1)"
   ]
  },
  {
   "cell_type": "code",
   "execution_count": 33,
   "id": "2cc23a17",
   "metadata": {},
   "outputs": [
    {
     "data": {
      "text/plain": [
       "<StringArray>\n",
       "[  'high',   'high',    'low',    'low', 'medium',   'high',    'low',\n",
       "    'low',    'low', 'medium',\n",
       " ...\n",
       " 'medium',   'high',    'low', 'medium',    'low', 'medium',   'high',\n",
       "    'low',   'high',    'low']\n",
       "Length: 1059, dtype: string"
      ]
     },
     "execution_count": 33,
     "metadata": {},
     "output_type": "execute_result"
    }
   ],
   "source": [
    "y = dataset.iloc[:, -1].values\n",
    "y"
   ]
  },
  {
   "cell_type": "code",
   "execution_count": 34,
   "id": "0e5c60b2",
   "metadata": {},
   "outputs": [],
   "source": [
    "BagModel = BaggingClassifier(n_estimators=5, oob_score=True, random_state=1)"
   ]
  },
  {
   "cell_type": "code",
   "execution_count": 35,
   "id": "db8150f6",
   "metadata": {},
   "outputs": [
    {
     "name": "stderr",
     "output_type": "stream",
     "text": [
      "C:\\PycharmProjects\\OAD_NIRS\\venv\\lib\\site-packages\\sklearn\\ensemble\\_bagging.py:707: UserWarning: Some inputs do not have OOB scores. This probably means too few estimators were used to compute any reliable oob estimates.\n",
      "  \"Some inputs do not have OOB scores. \"\n",
      "C:\\PycharmProjects\\OAD_NIRS\\venv\\lib\\site-packages\\sklearn\\ensemble\\_bagging.py:712: RuntimeWarning: invalid value encountered in true_divide\n",
      "  oob_decision_function = predictions / predictions.sum(axis=1)[:, np.newaxis]\n"
     ]
    },
    {
     "data": {
      "text/plain": [
       "BaggingClassifier(n_estimators=5, oob_score=True, random_state=1)"
      ]
     },
     "execution_count": 35,
     "metadata": {},
     "output_type": "execute_result"
    }
   ],
   "source": [
    "BagModel.fit(milk_X_train, milk_y_train)"
   ]
  },
  {
   "cell_type": "code",
   "execution_count": 36,
   "id": "79b7f94c",
   "metadata": {},
   "outputs": [],
   "source": [
    "y_bag_predict = BagModel.predict(milk_X_test)"
   ]
  },
  {
   "cell_type": "code",
   "execution_count": 37,
   "id": "718495eb",
   "metadata": {},
   "outputs": [
    {
     "data": {
      "text/plain": [
       "array(['medium', 'low', 'high', 'low', 'high', 'medium', 'low', 'low',\n",
       "       'high', 'low', 'high', 'medium', 'high', 'medium', 'high',\n",
       "       'medium', 'medium', 'high', 'low', 'low', 'medium', 'medium',\n",
       "       'high', 'low', 'medium', 'medium', 'medium', 'medium', 'low',\n",
       "       'medium', 'low', 'low', 'high', 'low', 'high', 'high', 'high',\n",
       "       'medium', 'medium', 'low', 'high', 'low', 'medium', 'medium',\n",
       "       'high', 'medium', 'low', 'medium', 'medium', 'high', 'low', 'high',\n",
       "       'medium', 'low', 'low', 'low', 'medium', 'low', 'high', 'high',\n",
       "       'medium', 'low', 'low', 'medium', 'low', 'high', 'low', 'medium',\n",
       "       'low', 'medium', 'low', 'high', 'low', 'low', 'high', 'medium',\n",
       "       'high', 'low', 'high', 'low', 'medium', 'low', 'medium', 'low',\n",
       "       'low', 'low', 'medium', 'low', 'medium', 'low', 'medium', 'medium',\n",
       "       'high', 'high', 'high', 'low', 'low', 'low', 'low', 'medium',\n",
       "       'low', 'medium', 'low', 'medium', 'medium', 'low'], dtype=object)"
      ]
     },
     "execution_count": 37,
     "metadata": {},
     "output_type": "execute_result"
    }
   ],
   "source": [
    "y_bag_predict"
   ]
  },
  {
   "cell_type": "code",
   "execution_count": 38,
   "id": "a2de054f",
   "metadata": {},
   "outputs": [
    {
     "data": {
      "text/plain": [
       "1.0"
      ]
     },
     "execution_count": 38,
     "metadata": {},
     "output_type": "execute_result"
    }
   ],
   "source": [
    "accuracy_score(milk_y_test, y_bag_predict)"
   ]
  },
  {
   "cell_type": "code",
   "execution_count": 39,
   "id": "86f28e41",
   "metadata": {},
   "outputs": [
    {
     "data": {
      "text/plain": [
       "array([1., 1., 1.])"
      ]
     },
     "execution_count": 39,
     "metadata": {},
     "output_type": "execute_result"
    }
   ],
   "source": [
    "recall_score(milk_y_test, y_bag_predict, average=None)"
   ]
  },
  {
   "cell_type": "code",
   "execution_count": 40,
   "id": "748e0fff",
   "metadata": {},
   "outputs": [
    {
     "data": {
      "text/plain": [
       "0.9233997901364114"
      ]
     },
     "execution_count": 40,
     "metadata": {},
     "output_type": "execute_result"
    }
   ],
   "source": [
    "BagModel.oob_score_"
   ]
  },
  {
   "cell_type": "code",
   "execution_count": 41,
   "id": "14139999",
   "metadata": {},
   "outputs": [],
   "source": [
    "###############\n",
    "###############\n",
    "###############\n",
    "###############\n",
    "###############"
   ]
  },
  {
   "cell_type": "code",
   "execution_count": 42,
   "id": "05035cae",
   "metadata": {},
   "outputs": [
    {
     "data": {
      "text/plain": [
       "AdaBoostClassifier(algorithm='SAMME', n_estimators=5, random_state=10)"
      ]
     },
     "execution_count": 42,
     "metadata": {},
     "output_type": "execute_result"
    }
   ],
   "source": [
    "# Обучим классификатор на 5 деревьях\n",
    "ab1 = AdaBoostClassifier(n_estimators=5, algorithm='SAMME', random_state=10)\n",
    "ab1.fit(milk_X_train, milk_y_train)"
   ]
  },
  {
   "cell_type": "code",
   "execution_count": 43,
   "id": "c179dd69",
   "metadata": {},
   "outputs": [],
   "source": [
    "y_boost_predict = ab1.predict(milk_X_test)"
   ]
  },
  {
   "cell_type": "code",
   "execution_count": 44,
   "id": "67b8050d",
   "metadata": {},
   "outputs": [
    {
     "data": {
      "text/plain": [
       "0.4811320754716981"
      ]
     },
     "execution_count": 44,
     "metadata": {},
     "output_type": "execute_result"
    }
   ],
   "source": [
    "accuracy_score(milk_y_test, y_boost_predict)"
   ]
  },
  {
   "cell_type": "code",
   "execution_count": 45,
   "id": "fffe9972",
   "metadata": {},
   "outputs": [
    {
     "data": {
      "text/plain": [
       "array([0.       , 0.3255814, 1.       ])"
      ]
     },
     "execution_count": 45,
     "metadata": {},
     "output_type": "execute_result"
    }
   ],
   "source": [
    "recall_score(milk_y_test, y_boost_predict, average=None)"
   ]
  },
  {
   "cell_type": "code",
   "execution_count": 46,
   "id": "eab0dc8f",
   "metadata": {},
   "outputs": [
    {
     "data": {
      "text/plain": [
       "array([0.        , 1.        , 0.42528736])"
      ]
     },
     "execution_count": 46,
     "metadata": {},
     "output_type": "execute_result"
    }
   ],
   "source": [
    "precision_score(milk_y_test, y_boost_predict, average=None)"
   ]
  },
  {
   "cell_type": "code",
   "execution_count": 47,
   "id": "506a2230",
   "metadata": {},
   "outputs": [
    {
     "name": "stderr",
     "output_type": "stream",
     "text": [
      "C:\\PycharmProjects\\OAD_NIRS\\venv\\lib\\site-packages\\sklearn\\utils\\deprecation.py:87: FutureWarning: Function plot_confusion_matrix is deprecated; Function `plot_confusion_matrix` is deprecated in 1.0 and will be removed in 1.2. Use one of the class methods: ConfusionMatrixDisplay.from_predictions or ConfusionMatrixDisplay.from_estimator.\n",
      "  warnings.warn(msg, category=FutureWarning)\n"
     ]
    },
    {
     "ename": "ValueError",
     "evalue": "The number of FixedLocator locations (3), usually from a call to set_ticks, does not match the number of ticklabels (1059).",
     "output_type": "error",
     "traceback": [
      "\u001b[1;31m---------------------------------------------------------------------------\u001b[0m",
      "\u001b[1;31mValueError\u001b[0m                                Traceback (most recent call last)",
      "\u001b[1;32m~\\AppData\\Local\\Temp\\ipykernel_17052\\2761278136.py\u001b[0m in \u001b[0;36m<module>\u001b[1;34m\u001b[0m\n\u001b[0;32m      1\u001b[0m plot_confusion_matrix(ab1, milk_X_test, milk_y_test, \n\u001b[0;32m      2\u001b[0m                       \u001b[0mdisplay_labels\u001b[0m\u001b[1;33m=\u001b[0m\u001b[0mmilk_ds\u001b[0m\u001b[1;33m[\u001b[0m\u001b[1;34m'Grade'\u001b[0m\u001b[1;33m]\u001b[0m\u001b[1;33m.\u001b[0m\u001b[0mvalues\u001b[0m\u001b[1;33m,\u001b[0m\u001b[1;33m\u001b[0m\u001b[0m\n\u001b[1;32m----> 3\u001b[1;33m                       cmap=plt.cm.Blues, normalize=None)\n\u001b[0m",
      "\u001b[1;32mC:\\PycharmProjects\\OAD_NIRS\\venv\\lib\\site-packages\\sklearn\\utils\\deprecation.py\u001b[0m in \u001b[0;36mwrapped\u001b[1;34m(*args, **kwargs)\u001b[0m\n\u001b[0;32m     86\u001b[0m         \u001b[1;32mdef\u001b[0m \u001b[0mwrapped\u001b[0m\u001b[1;33m(\u001b[0m\u001b[1;33m*\u001b[0m\u001b[0margs\u001b[0m\u001b[1;33m,\u001b[0m \u001b[1;33m**\u001b[0m\u001b[0mkwargs\u001b[0m\u001b[1;33m)\u001b[0m\u001b[1;33m:\u001b[0m\u001b[1;33m\u001b[0m\u001b[0m\n\u001b[0;32m     87\u001b[0m             \u001b[0mwarnings\u001b[0m\u001b[1;33m.\u001b[0m\u001b[0mwarn\u001b[0m\u001b[1;33m(\u001b[0m\u001b[0mmsg\u001b[0m\u001b[1;33m,\u001b[0m \u001b[0mcategory\u001b[0m\u001b[1;33m=\u001b[0m\u001b[0mFutureWarning\u001b[0m\u001b[1;33m)\u001b[0m\u001b[1;33m\u001b[0m\u001b[0m\n\u001b[1;32m---> 88\u001b[1;33m             \u001b[1;32mreturn\u001b[0m \u001b[0mfun\u001b[0m\u001b[1;33m(\u001b[0m\u001b[1;33m*\u001b[0m\u001b[0margs\u001b[0m\u001b[1;33m,\u001b[0m \u001b[1;33m**\u001b[0m\u001b[0mkwargs\u001b[0m\u001b[1;33m)\u001b[0m\u001b[1;33m\u001b[0m\u001b[0m\n\u001b[0m\u001b[0;32m     89\u001b[0m \u001b[1;33m\u001b[0m\u001b[0m\n\u001b[0;32m     90\u001b[0m         \u001b[0mwrapped\u001b[0m\u001b[1;33m.\u001b[0m\u001b[0m__doc__\u001b[0m \u001b[1;33m=\u001b[0m \u001b[0mself\u001b[0m\u001b[1;33m.\u001b[0m\u001b[0m_update_doc\u001b[0m\u001b[1;33m(\u001b[0m\u001b[0mwrapped\u001b[0m\u001b[1;33m.\u001b[0m\u001b[0m__doc__\u001b[0m\u001b[1;33m)\u001b[0m\u001b[1;33m\u001b[0m\u001b[0m\n",
      "\u001b[1;32mC:\\PycharmProjects\\OAD_NIRS\\venv\\lib\\site-packages\\sklearn\\metrics\\_plot\\confusion_matrix.py\u001b[0m in \u001b[0;36mplot_confusion_matrix\u001b[1;34m(estimator, X, y_true, labels, sample_weight, normalize, display_labels, include_values, xticks_rotation, values_format, cmap, ax, colorbar)\u001b[0m\n\u001b[0;32m    581\u001b[0m         \u001b[0mxticks_rotation\u001b[0m\u001b[1;33m=\u001b[0m\u001b[0mxticks_rotation\u001b[0m\u001b[1;33m,\u001b[0m\u001b[1;33m\u001b[0m\u001b[0m\n\u001b[0;32m    582\u001b[0m         \u001b[0mvalues_format\u001b[0m\u001b[1;33m=\u001b[0m\u001b[0mvalues_format\u001b[0m\u001b[1;33m,\u001b[0m\u001b[1;33m\u001b[0m\u001b[0m\n\u001b[1;32m--> 583\u001b[1;33m         \u001b[0mcolorbar\u001b[0m\u001b[1;33m=\u001b[0m\u001b[0mcolorbar\u001b[0m\u001b[1;33m,\u001b[0m\u001b[1;33m\u001b[0m\u001b[0m\n\u001b[0m\u001b[0;32m    584\u001b[0m     )\n",
      "\u001b[1;32mC:\\PycharmProjects\\OAD_NIRS\\venv\\lib\\site-packages\\sklearn\\metrics\\_plot\\confusion_matrix.py\u001b[0m in \u001b[0;36mplot\u001b[1;34m(self, include_values, cmap, xticks_rotation, values_format, ax, colorbar)\u001b[0m\n\u001b[0;32m    167\u001b[0m             \u001b[0myticklabels\u001b[0m\u001b[1;33m=\u001b[0m\u001b[0mdisplay_labels\u001b[0m\u001b[1;33m,\u001b[0m\u001b[1;33m\u001b[0m\u001b[0m\n\u001b[0;32m    168\u001b[0m             \u001b[0mylabel\u001b[0m\u001b[1;33m=\u001b[0m\u001b[1;34m\"True label\"\u001b[0m\u001b[1;33m,\u001b[0m\u001b[1;33m\u001b[0m\u001b[0m\n\u001b[1;32m--> 169\u001b[1;33m             \u001b[0mxlabel\u001b[0m\u001b[1;33m=\u001b[0m\u001b[1;34m\"Predicted label\"\u001b[0m\u001b[1;33m,\u001b[0m\u001b[1;33m\u001b[0m\u001b[0m\n\u001b[0m\u001b[0;32m    170\u001b[0m         )\n\u001b[0;32m    171\u001b[0m \u001b[1;33m\u001b[0m\u001b[0m\n",
      "\u001b[1;32mC:\\PycharmProjects\\OAD_NIRS\\venv\\lib\\site-packages\\matplotlib\\artist.py\u001b[0m in \u001b[0;36m<lambda>\u001b[1;34m(self, **kwargs)\u001b[0m\n\u001b[0;32m    115\u001b[0m             \u001b[1;32mreturn\u001b[0m\u001b[1;33m\u001b[0m\u001b[0m\n\u001b[0;32m    116\u001b[0m \u001b[1;33m\u001b[0m\u001b[0m\n\u001b[1;32m--> 117\u001b[1;33m         \u001b[0mcls\u001b[0m\u001b[1;33m.\u001b[0m\u001b[0mset\u001b[0m \u001b[1;33m=\u001b[0m \u001b[1;32mlambda\u001b[0m \u001b[0mself\u001b[0m\u001b[1;33m,\u001b[0m \u001b[1;33m**\u001b[0m\u001b[0mkwargs\u001b[0m\u001b[1;33m:\u001b[0m \u001b[0mArtist\u001b[0m\u001b[1;33m.\u001b[0m\u001b[0mset\u001b[0m\u001b[1;33m(\u001b[0m\u001b[0mself\u001b[0m\u001b[1;33m,\u001b[0m \u001b[1;33m**\u001b[0m\u001b[0mkwargs\u001b[0m\u001b[1;33m)\u001b[0m\u001b[1;33m\u001b[0m\u001b[0m\n\u001b[0m\u001b[0;32m    118\u001b[0m         \u001b[0mcls\u001b[0m\u001b[1;33m.\u001b[0m\u001b[0mset\u001b[0m\u001b[1;33m.\u001b[0m\u001b[0m__name__\u001b[0m \u001b[1;33m=\u001b[0m \u001b[1;34m\"set\"\u001b[0m\u001b[1;33m\u001b[0m\u001b[0m\n\u001b[0;32m    119\u001b[0m         \u001b[0mcls\u001b[0m\u001b[1;33m.\u001b[0m\u001b[0mset\u001b[0m\u001b[1;33m.\u001b[0m\u001b[0m__qualname__\u001b[0m \u001b[1;33m=\u001b[0m \u001b[1;34mf\"{cls.__qualname__}.set\"\u001b[0m\u001b[1;33m\u001b[0m\u001b[0m\n",
      "\u001b[1;32mC:\\PycharmProjects\\OAD_NIRS\\venv\\lib\\site-packages\\matplotlib\\artist.py\u001b[0m in \u001b[0;36mset\u001b[1;34m(self, **kwargs)\u001b[0m\n\u001b[0;32m   1165\u001b[0m         \u001b[1;31m# module.\u001b[0m\u001b[1;33m\u001b[0m\u001b[1;33m\u001b[0m\u001b[0m\n\u001b[0;32m   1166\u001b[0m         \u001b[0mkwargs\u001b[0m \u001b[1;33m=\u001b[0m \u001b[0mcbook\u001b[0m\u001b[1;33m.\u001b[0m\u001b[0mnormalize_kwargs\u001b[0m\u001b[1;33m(\u001b[0m\u001b[0mkwargs\u001b[0m\u001b[1;33m,\u001b[0m \u001b[0mself\u001b[0m\u001b[1;33m)\u001b[0m\u001b[1;33m\u001b[0m\u001b[0m\n\u001b[1;32m-> 1167\u001b[1;33m         \u001b[1;32mreturn\u001b[0m \u001b[0mself\u001b[0m\u001b[1;33m.\u001b[0m\u001b[0mupdate\u001b[0m\u001b[1;33m(\u001b[0m\u001b[0mkwargs\u001b[0m\u001b[1;33m)\u001b[0m\u001b[1;33m\u001b[0m\u001b[0m\n\u001b[0m\u001b[0;32m   1168\u001b[0m \u001b[1;33m\u001b[0m\u001b[0m\n\u001b[0;32m   1169\u001b[0m     \u001b[1;33m@\u001b[0m\u001b[0mcontextlib\u001b[0m\u001b[1;33m.\u001b[0m\u001b[0mcontextmanager\u001b[0m\u001b[1;33m\u001b[0m\u001b[0m\n",
      "\u001b[1;32mC:\\PycharmProjects\\OAD_NIRS\\venv\\lib\\site-packages\\matplotlib\\artist.py\u001b[0m in \u001b[0;36mupdate\u001b[1;34m(self, props)\u001b[0m\n\u001b[0;32m   1067\u001b[0m                         raise AttributeError(f\"{type(self).__name__!r} object \"\n\u001b[0;32m   1068\u001b[0m                                              f\"has no property {k!r}\")\n\u001b[1;32m-> 1069\u001b[1;33m                     \u001b[0mret\u001b[0m\u001b[1;33m.\u001b[0m\u001b[0mappend\u001b[0m\u001b[1;33m(\u001b[0m\u001b[0mfunc\u001b[0m\u001b[1;33m(\u001b[0m\u001b[0mv\u001b[0m\u001b[1;33m)\u001b[0m\u001b[1;33m)\u001b[0m\u001b[1;33m\u001b[0m\u001b[0m\n\u001b[0m\u001b[0;32m   1070\u001b[0m         \u001b[1;32mif\u001b[0m \u001b[0mret\u001b[0m\u001b[1;33m:\u001b[0m\u001b[1;33m\u001b[0m\u001b[0m\n\u001b[0;32m   1071\u001b[0m             \u001b[0mself\u001b[0m\u001b[1;33m.\u001b[0m\u001b[0mpchanged\u001b[0m\u001b[1;33m(\u001b[0m\u001b[1;33m)\u001b[0m\u001b[1;33m\u001b[0m\u001b[0m\n",
      "\u001b[1;32mC:\\PycharmProjects\\OAD_NIRS\\venv\\lib\\site-packages\\matplotlib\\axes\\_base.py\u001b[0m in \u001b[0;36mwrapper\u001b[1;34m(self, *args, **kwargs)\u001b[0m\n\u001b[0;32m     73\u001b[0m \u001b[1;33m\u001b[0m\u001b[0m\n\u001b[0;32m     74\u001b[0m         \u001b[1;32mdef\u001b[0m \u001b[0mwrapper\u001b[0m\u001b[1;33m(\u001b[0m\u001b[0mself\u001b[0m\u001b[1;33m,\u001b[0m \u001b[1;33m*\u001b[0m\u001b[0margs\u001b[0m\u001b[1;33m,\u001b[0m \u001b[1;33m**\u001b[0m\u001b[0mkwargs\u001b[0m\u001b[1;33m)\u001b[0m\u001b[1;33m:\u001b[0m\u001b[1;33m\u001b[0m\u001b[0m\n\u001b[1;32m---> 75\u001b[1;33m             \u001b[1;32mreturn\u001b[0m \u001b[0mget_method\u001b[0m\u001b[1;33m(\u001b[0m\u001b[0mself\u001b[0m\u001b[1;33m)\u001b[0m\u001b[1;33m(\u001b[0m\u001b[1;33m*\u001b[0m\u001b[0margs\u001b[0m\u001b[1;33m,\u001b[0m \u001b[1;33m**\u001b[0m\u001b[0mkwargs\u001b[0m\u001b[1;33m)\u001b[0m\u001b[1;33m\u001b[0m\u001b[0m\n\u001b[0m\u001b[0;32m     76\u001b[0m \u001b[1;33m\u001b[0m\u001b[0m\n\u001b[0;32m     77\u001b[0m         \u001b[0mwrapper\u001b[0m\u001b[1;33m.\u001b[0m\u001b[0m__module__\u001b[0m \u001b[1;33m=\u001b[0m \u001b[0mowner\u001b[0m\u001b[1;33m.\u001b[0m\u001b[0m__module__\u001b[0m\u001b[1;33m\u001b[0m\u001b[0m\n",
      "\u001b[1;32mC:\\PycharmProjects\\OAD_NIRS\\venv\\lib\\site-packages\\matplotlib\\axis.py\u001b[0m in \u001b[0;36m_set_ticklabels\u001b[1;34m(self, labels, fontdict, minor, **kwargs)\u001b[0m\n\u001b[0;32m   1796\u001b[0m         \u001b[1;32mif\u001b[0m \u001b[0mfontdict\u001b[0m \u001b[1;32mis\u001b[0m \u001b[1;32mnot\u001b[0m \u001b[1;32mNone\u001b[0m\u001b[1;33m:\u001b[0m\u001b[1;33m\u001b[0m\u001b[0m\n\u001b[0;32m   1797\u001b[0m             \u001b[0mkwargs\u001b[0m\u001b[1;33m.\u001b[0m\u001b[0mupdate\u001b[0m\u001b[1;33m(\u001b[0m\u001b[0mfontdict\u001b[0m\u001b[1;33m)\u001b[0m\u001b[1;33m\u001b[0m\u001b[0m\n\u001b[1;32m-> 1798\u001b[1;33m         \u001b[1;32mreturn\u001b[0m \u001b[0mself\u001b[0m\u001b[1;33m.\u001b[0m\u001b[0mset_ticklabels\u001b[0m\u001b[1;33m(\u001b[0m\u001b[0mlabels\u001b[0m\u001b[1;33m,\u001b[0m \u001b[0mminor\u001b[0m\u001b[1;33m=\u001b[0m\u001b[0mminor\u001b[0m\u001b[1;33m,\u001b[0m \u001b[1;33m**\u001b[0m\u001b[0mkwargs\u001b[0m\u001b[1;33m)\u001b[0m\u001b[1;33m\u001b[0m\u001b[0m\n\u001b[0m\u001b[0;32m   1799\u001b[0m \u001b[1;33m\u001b[0m\u001b[0m\n\u001b[0;32m   1800\u001b[0m     \u001b[1;32mdef\u001b[0m \u001b[0m_set_tick_locations\u001b[0m\u001b[1;33m(\u001b[0m\u001b[0mself\u001b[0m\u001b[1;33m,\u001b[0m \u001b[0mticks\u001b[0m\u001b[1;33m,\u001b[0m \u001b[1;33m*\u001b[0m\u001b[1;33m,\u001b[0m \u001b[0mminor\u001b[0m\u001b[1;33m=\u001b[0m\u001b[1;32mFalse\u001b[0m\u001b[1;33m)\u001b[0m\u001b[1;33m:\u001b[0m\u001b[1;33m\u001b[0m\u001b[0m\n",
      "\u001b[1;32mC:\\PycharmProjects\\OAD_NIRS\\venv\\lib\\site-packages\\matplotlib\\axis.py\u001b[0m in \u001b[0;36mset_ticklabels\u001b[1;34m(self, ticklabels, minor, **kwargs)\u001b[0m\n\u001b[0;32m   1719\u001b[0m             \u001b[1;32mif\u001b[0m \u001b[0mlen\u001b[0m\u001b[1;33m(\u001b[0m\u001b[0mlocator\u001b[0m\u001b[1;33m.\u001b[0m\u001b[0mlocs\u001b[0m\u001b[1;33m)\u001b[0m \u001b[1;33m!=\u001b[0m \u001b[0mlen\u001b[0m\u001b[1;33m(\u001b[0m\u001b[0mticklabels\u001b[0m\u001b[1;33m)\u001b[0m \u001b[1;32mand\u001b[0m \u001b[0mlen\u001b[0m\u001b[1;33m(\u001b[0m\u001b[0mticklabels\u001b[0m\u001b[1;33m)\u001b[0m \u001b[1;33m!=\u001b[0m \u001b[1;36m0\u001b[0m\u001b[1;33m:\u001b[0m\u001b[1;33m\u001b[0m\u001b[0m\n\u001b[0;32m   1720\u001b[0m                 raise ValueError(\n\u001b[1;32m-> 1721\u001b[1;33m                     \u001b[1;34m\"The number of FixedLocator locations\"\u001b[0m\u001b[1;33m\u001b[0m\u001b[0m\n\u001b[0m\u001b[0;32m   1722\u001b[0m                     \u001b[1;34mf\" ({len(locator.locs)}), usually from a call to\"\u001b[0m\u001b[1;33m\u001b[0m\u001b[0m\n\u001b[0;32m   1723\u001b[0m                     \u001b[1;34m\" set_ticks, does not match\"\u001b[0m\u001b[1;33m\u001b[0m\u001b[0m\n",
      "\u001b[1;31mValueError\u001b[0m: The number of FixedLocator locations (3), usually from a call to set_ticks, does not match the number of ticklabels (1059)."
     ]
    },
    {
     "data": {
      "image/png": "[encoded data removed]",
      "text/plain": [
       "<Figure size 640x480 with 2 Axes>"
      ]
     },
     "metadata": {},
     "output_type": "display_data"
    }
   ],
   "source": [
    "plot_confusion_matrix(ab1, milk_X_test, milk_y_test, \n",
    "                      display_labels=milk_ds['Grade'].values, \n",
    "                      cmap=plt.cm.Blues, normalize=None)"
   ]
  },
  {
   "cell_type": "code",
   "execution_count": 48,
   "id": "9257f4b9",
   "metadata": {},
   "outputs": [],
   "source": [
    "###############\n",
    "###############\n",
    "###############\n",
    "###############\n",
    "###############"
   ]
  },
  {
   "cell_type": "code",
   "execution_count": 49,
   "id": "1ff1db9f",
   "metadata": {},
   "outputs": [
    {
     "data": {
      "text/plain": [
       "array([0, 0, 1, ..., 1, 0, 1])"
      ]
     },
     "execution_count": 49,
     "metadata": {},
     "output_type": "execute_result"
    }
   ],
   "source": [
    "le = LabelEncoder()\n",
    "milk_y_ds_le = le.fit_transform(milk_ds['Grade'])\n",
    "milk_y_ds_le"
   ]
  },
  {
   "cell_type": "code",
   "execution_count": 50,
   "id": "1239d7f3",
   "metadata": {},
   "outputs": [],
   "source": [
    "milk_X_train2, milk_X_test2, milk_y_train2, milk_y_test2 = train_test_split(\n",
    "    X, \n",
    "    milk_y_ds_le, test_size=0.1, random_state=1)"
   ]
  },
  {
   "cell_type": "code",
   "execution_count": 51,
   "id": "76889c22",
   "metadata": {},
   "outputs": [],
   "source": [
    "# Эксперимент 1\n",
    "# Первый уровень - две модели: дерево и логистическая регрессия\n",
    "# Второй уровень: логистическая регрессия\n",
    "clf1 = DecisionTreeClassifier(random_state=1)\n",
    "clf2 = LogisticRegression()\n",
    "sclf = StackingClassifier(classifiers=[clf1, clf2], meta_classifier = clf2)"
   ]
  },
  {
   "cell_type": "code",
   "execution_count": 52,
   "id": "cf7b4464",
   "metadata": {},
   "outputs": [],
   "source": [
    "# for clf, label in zip([clf1, clf2, sclf], ['Tree', 'Logistic', 'Stacking']):\n",
    "#     scores = cross_val_score(clf, X, milk_y_ds_le, cv=3, scoring = 'f1_macro')\n",
    "#     print(\"F1 scores: %0.2f (+/- %0.2f) [%s]\" % (scores.mean(), scores.std(), label))"
   ]
  },
  {
   "cell_type": "code",
   "execution_count": 53,
   "id": "69e3fb24",
   "metadata": {},
   "outputs": [
    {
     "name": "stdout",
     "output_type": "stream",
     "text": [
      "Accuracy score: 1.00 [Tree]\n",
      "Accuracy score: 0.72 [Logistic]\n",
      "Accuracy score: 1.00 [Stacking]\n"
     ]
    },
    {
     "name": "stderr",
     "output_type": "stream",
     "text": [
      "C:\\PycharmProjects\\OAD_NIRS\\venv\\lib\\site-packages\\sklearn\\linear_model\\_logistic.py:818: ConvergenceWarning: lbfgs failed to converge (status=1):\n",
      "STOP: TOTAL NO. of ITERATIONS REACHED LIMIT.\n",
      "\n",
      "Increase the number of iterations (max_iter) or scale the data as shown in:\n",
      "    https://scikit-learn.org/stable/modules/preprocessing.html\n",
      "Please also refer to the documentation for alternative solver options:\n",
      "    https://scikit-learn.org/stable/modules/linear_model.html#logistic-regression\n",
      "  extra_warning_msg=_LOGISTIC_SOLVER_CONVERGENCE_MSG,\n",
      "C:\\PycharmProjects\\OAD_NIRS\\venv\\lib\\site-packages\\sklearn\\linear_model\\_logistic.py:818: ConvergenceWarning: lbfgs failed to converge (status=1):\n",
      "STOP: TOTAL NO. of ITERATIONS REACHED LIMIT.\n",
      "\n",
      "Increase the number of iterations (max_iter) or scale the data as shown in:\n",
      "    https://scikit-learn.org/stable/modules/preprocessing.html\n",
      "Please also refer to the documentation for alternative solver options:\n",
      "    https://scikit-learn.org/stable/modules/linear_model.html#logistic-regression\n",
      "  extra_warning_msg=_LOGISTIC_SOLVER_CONVERGENCE_MSG,\n"
     ]
    }
   ],
   "source": [
    "for clf, label in zip([clf1, clf2, sclf], ['Tree', 'Logistic', 'Stacking']):\n",
    "    clf.fit(milk_X_train2, milk_y_train2)\n",
    "    y_stack_predict = clf.predict(milk_X_test2)\n",
    "#     accuracy_score(milk_y_test2, y_stack_predict)\n",
    "#     scores = cross_val_score(clf, X, milk_y_ds_le, cv=3, scoring = 'f1_macro')\n",
    "#     print(\"F1 scores: %0.2f (+/- %0.2f) [%s]\" % (scores.mean(), scores.std(), label))\n",
    "    print(\"Accuracy score: %0.2f [%s]\" % (accuracy_score(milk_y_test2, y_stack_predict), label))"
   ]
  },
  {
   "cell_type": "code",
   "execution_count": 54,
   "id": "3e178d9e",
   "metadata": {},
   "outputs": [],
   "source": [
    "# Эксперимент 2\n",
    "# Первый уровень - две модели: дерево и логистическая регрессия\n",
    "# Второй уровень: случайный лес\n",
    "clf1 = DecisionTreeClassifier(random_state=1)\n",
    "clf2 = LogisticRegression()\n",
    "clf3 = RandomForestClassifier(n_estimators=5, oob_score=True, random_state=10)\n",
    "sclf = StackingClassifier(classifiers=[clf1, clf2], meta_classifier = clf3)"
   ]
  },
  {
   "cell_type": "code",
   "execution_count": 55,
   "id": "e7052241",
   "metadata": {},
   "outputs": [
    {
     "name": "stdout",
     "output_type": "stream",
     "text": [
      "Accuracy score: 1.00 [Tree]\n",
      "Accuracy score: 0.72 [Logistic]\n",
      "Accuracy score: 1.00 [Stacking]\n"
     ]
    },
    {
     "name": "stderr",
     "output_type": "stream",
     "text": [
      "C:\\PycharmProjects\\OAD_NIRS\\venv\\lib\\site-packages\\sklearn\\linear_model\\_logistic.py:818: ConvergenceWarning: lbfgs failed to converge (status=1):\n",
      "STOP: TOTAL NO. of ITERATIONS REACHED LIMIT.\n",
      "\n",
      "Increase the number of iterations (max_iter) or scale the data as shown in:\n",
      "    https://scikit-learn.org/stable/modules/preprocessing.html\n",
      "Please also refer to the documentation for alternative solver options:\n",
      "    https://scikit-learn.org/stable/modules/linear_model.html#logistic-regression\n",
      "  extra_warning_msg=_LOGISTIC_SOLVER_CONVERGENCE_MSG,\n",
      "C:\\PycharmProjects\\OAD_NIRS\\venv\\lib\\site-packages\\sklearn\\linear_model\\_logistic.py:818: ConvergenceWarning: lbfgs failed to converge (status=1):\n",
      "STOP: TOTAL NO. of ITERATIONS REACHED LIMIT.\n",
      "\n",
      "Increase the number of iterations (max_iter) or scale the data as shown in:\n",
      "    https://scikit-learn.org/stable/modules/preprocessing.html\n",
      "Please also refer to the documentation for alternative solver options:\n",
      "    https://scikit-learn.org/stable/modules/linear_model.html#logistic-regression\n",
      "  extra_warning_msg=_LOGISTIC_SOLVER_CONVERGENCE_MSG,\n",
      "C:\\PycharmProjects\\OAD_NIRS\\venv\\lib\\site-packages\\sklearn\\ensemble\\_forest.py:564: UserWarning: Some inputs do not have OOB scores. This probably means too few trees were used to compute any reliable OOB estimates.\n",
      "  UserWarning,\n"
     ]
    }
   ],
   "source": [
    "for clf, label in zip([clf1, clf2, sclf], ['Tree', 'Logistic', 'Stacking']):\n",
    "    clf.fit(milk_X_train2, milk_y_train2)\n",
    "    y_stack_predict = clf.predict(milk_X_test2)\n",
    "#     accuracy_score(milk_y_test2, y_stack_predict)\n",
    "#     scores = cross_val_score(clf, X, milk_y_ds_le, cv=3, scoring = 'f1_macro')\n",
    "#     print(\"F1 scores: %0.2f (+/- %0.2f) [%s]\" % (scores.mean(), scores.std(), label))\n",
    "    print(\"Accuracy score: %0.2f [%s]\" % (accuracy_score(milk_y_test2, y_stack_predict), label))"
   ]
  },
  {
   "cell_type": "code",
   "execution_count": 56,
   "id": "4c655ef3",
   "metadata": {},
   "outputs": [],
   "source": [
    "# Эксперимент 3\n",
    "# Первый уровень - две модели: логистическая регрессия и случайный лес\n",
    "# Второй уровень: случайный лес\n",
    "# clf1 = DecisionTreeClassifier(random_state=1)\n",
    "clf1 = LogisticRegression()\n",
    "clf2 = RandomForestClassifier(n_estimators=5, oob_score=True, random_state=13)\n",
    "sclf = StackingClassifier(classifiers=[clf1, clf2], meta_classifier = clf2)"
   ]
  },
  {
   "cell_type": "code",
   "execution_count": 57,
   "id": "59510d97",
   "metadata": {},
   "outputs": [
    {
     "name": "stdout",
     "output_type": "stream",
     "text": [
      "Accuracy score: 0.72 [Logistic]\n",
      "Accuracy score: 1.00 [Forest]\n",
      "Accuracy score: 1.00 [Stacking]\n"
     ]
    },
    {
     "name": "stderr",
     "output_type": "stream",
     "text": [
      "C:\\PycharmProjects\\OAD_NIRS\\venv\\lib\\site-packages\\sklearn\\linear_model\\_logistic.py:818: ConvergenceWarning: lbfgs failed to converge (status=1):\n",
      "STOP: TOTAL NO. of ITERATIONS REACHED LIMIT.\n",
      "\n",
      "Increase the number of iterations (max_iter) or scale the data as shown in:\n",
      "    https://scikit-learn.org/stable/modules/preprocessing.html\n",
      "Please also refer to the documentation for alternative solver options:\n",
      "    https://scikit-learn.org/stable/modules/linear_model.html#logistic-regression\n",
      "  extra_warning_msg=_LOGISTIC_SOLVER_CONVERGENCE_MSG,\n",
      "C:\\PycharmProjects\\OAD_NIRS\\venv\\lib\\site-packages\\sklearn\\ensemble\\_forest.py:564: UserWarning: Some inputs do not have OOB scores. This probably means too few trees were used to compute any reliable OOB estimates.\n",
      "  UserWarning,\n",
      "C:\\PycharmProjects\\OAD_NIRS\\venv\\lib\\site-packages\\sklearn\\linear_model\\_logistic.py:818: ConvergenceWarning: lbfgs failed to converge (status=1):\n",
      "STOP: TOTAL NO. of ITERATIONS REACHED LIMIT.\n",
      "\n",
      "Increase the number of iterations (max_iter) or scale the data as shown in:\n",
      "    https://scikit-learn.org/stable/modules/preprocessing.html\n",
      "Please also refer to the documentation for alternative solver options:\n",
      "    https://scikit-learn.org/stable/modules/linear_model.html#logistic-regression\n",
      "  extra_warning_msg=_LOGISTIC_SOLVER_CONVERGENCE_MSG,\n",
      "C:\\PycharmProjects\\OAD_NIRS\\venv\\lib\\site-packages\\sklearn\\ensemble\\_forest.py:564: UserWarning: Some inputs do not have OOB scores. This probably means too few trees were used to compute any reliable OOB estimates.\n",
      "  UserWarning,\n",
      "C:\\PycharmProjects\\OAD_NIRS\\venv\\lib\\site-packages\\sklearn\\ensemble\\_forest.py:564: UserWarning: Some inputs do not have OOB scores. This probably means too few trees were used to compute any reliable OOB estimates.\n",
      "  UserWarning,\n"
     ]
    }
   ],
   "source": [
    "for clf, label in zip([clf1, clf2, sclf], ['Logistic', 'Forest', 'Stacking']):\n",
    "    clf.fit(milk_X_train2, milk_y_train2)\n",
    "    y_stack_predict = clf.predict(milk_X_test2)\n",
    "#     accuracy_score(milk_y_test2, y_stack_predict)\n",
    "#     scores = cross_val_score(clf, X, milk_y_ds_le, cv=3, scoring = 'f1_macro')\n",
    "#     print(\"F1 scores: %0.2f (+/- %0.2f) [%s]\" % (scores.mean(), scores.std(), label))\n",
    "    print(\"Accuracy score: %0.2f [%s]\" % (accuracy_score(milk_y_test2, y_stack_predict), label))\n",
    "#     print(\"F1 scores: %0.2f [%s]\" % (f1_score(milk_y_test2, y_stack_predict, average = None), label))"
   ]
  },
  {
   "cell_type": "code",
   "execution_count": 58,
   "id": "7699612b",
   "metadata": {},
   "outputs": [],
   "source": [
    "###############\n",
    "###############\n",
    "###############\n",
    "###############\n",
    "###############"
   ]
  },
  {
   "cell_type": "code",
   "execution_count": 59,
   "id": "1425ba33",
   "metadata": {},
   "outputs": [],
   "source": [
    "n_clf = MLPClassifier(random_state=1, max_iter=300).fit(milk_X_train2, milk_y_train2)"
   ]
  },
  {
   "cell_type": "code",
   "execution_count": 60,
   "id": "87245adf",
   "metadata": {},
   "outputs": [
    {
     "data": {
      "text/plain": [
       "array([[0.37284555, 0.17843762, 0.44871683]])"
      ]
     },
     "execution_count": 60,
     "metadata": {},
     "output_type": "execute_result"
    }
   ],
   "source": [
    "n_clf.predict_proba(milk_X_test2[:1])"
   ]
  },
  {
   "cell_type": "code",
   "execution_count": 61,
   "id": "2628dcbd",
   "metadata": {},
   "outputs": [
    {
     "data": {
      "text/plain": [
       "array([2, 1, 0, 1, 2, 2, 0, 1, 2, 0, 0, 2, 0, 2, 0, 2, 2, 0, 1, 1, 2, 2,\n",
       "       0, 1, 2, 2, 2, 2, 0, 2, 1, 1, 0, 1, 2, 2, 0, 0, 2, 0, 0, 0, 2, 2,\n",
       "       0, 2, 1, 2, 2, 0, 1, 0, 2, 1, 1, 1, 2, 1, 2, 2, 2, 1, 1, 2, 1, 2,\n",
       "       1, 2, 1, 0, 1, 1, 1, 1, 2, 2, 0, 1, 1, 0, 2, 1, 2, 1, 0, 1, 2, 1,\n",
       "       2, 1, 2, 2, 2, 0, 0, 1, 1, 1, 1, 2, 1, 2, 1, 2, 2, 1])"
      ]
     },
     "execution_count": 61,
     "metadata": {},
     "output_type": "execute_result"
    }
   ],
   "source": [
    "y_neuro_predict = n_clf.predict(milk_X_test2)\n",
    "y_neuro_predict"
   ]
  },
  {
   "cell_type": "code",
   "execution_count": 62,
   "id": "c3d41473",
   "metadata": {},
   "outputs": [
    {
     "data": {
      "text/plain": [
       "0.8113207547169812"
      ]
     },
     "execution_count": 62,
     "metadata": {},
     "output_type": "execute_result"
    }
   ],
   "source": [
    "n_clf.score(milk_X_test2, milk_y_test2)"
   ]
  },
  {
   "cell_type": "code",
   "execution_count": 63,
   "id": "1a4ee31f",
   "metadata": {},
   "outputs": [
    {
     "data": {
      "text/plain": [
       "0.8113207547169812"
      ]
     },
     "execution_count": 63,
     "metadata": {},
     "output_type": "execute_result"
    }
   ],
   "source": [
    "accuracy_score(milk_y_test2, y_neuro_predict)"
   ]
  },
  {
   "cell_type": "code",
   "execution_count": 64,
   "id": "3f71ad38",
   "metadata": {},
   "outputs": [],
   "source": [
    "###############\n",
    "###############\n",
    "###############\n",
    "###############\n",
    "###############"
   ]
  },
  {
   "cell_type": "code",
   "execution_count": 65,
   "id": "530b839a",
   "metadata": {},
   "outputs": [],
   "source": [
    "def convert_target_to_binary(array:np.ndarray, target:int) -> np.ndarray:\n",
    "    # Если целевой признак совпадает с указанным, то 1 иначе 0\n",
    "    res = [1 if x==target else 0 for x in array]\n",
    "    return res"
   ]
  },
  {
   "cell_type": "code",
   "execution_count": 66,
   "id": "16986c97",
   "metadata": {},
   "outputs": [],
   "source": [
    "model = gmdh.Classifier()"
   ]
  },
  {
   "cell_type": "code",
   "execution_count": 67,
   "id": "f970c2c1",
   "metadata": {},
   "outputs": [],
   "source": [
    "bin_milk_y = convert_target_to_binary(dataset['Grade'], 'high')"
   ]
  },
  {
   "cell_type": "code",
   "execution_count": 68,
   "id": "b48d9074",
   "metadata": {},
   "outputs": [
    {
     "data": {
      "text/html": [
       "<div>\n",
       "<style scoped>\n",
       "    .dataframe tbody tr th:only-of-type {\n",
       "        vertical-align: middle;\n",
       "    }\n",
       "\n",
       "    .dataframe tbody tr th {\n",
       "        vertical-align: top;\n",
       "    }\n",
       "\n",
       "    .dataframe thead th {\n",
       "        text-align: right;\n",
       "    }\n",
       "</style>\n",
       "<table border=\"1\" class=\"dataframe\">\n",
       "  <thead>\n",
       "    <tr style=\"text-align: right;\">\n",
       "      <th></th>\n",
       "      <th>pH</th>\n",
       "      <th>Temprature</th>\n",
       "      <th>Taste</th>\n",
       "      <th>Odor</th>\n",
       "      <th>Turbidity</th>\n",
       "      <th>Colour</th>\n",
       "      <th>Grade</th>\n",
       "    </tr>\n",
       "  </thead>\n",
       "  <tbody>\n",
       "    <tr>\n",
       "      <th>0</th>\n",
       "      <td>6.6</td>\n",
       "      <td>35</td>\n",
       "      <td>1</td>\n",
       "      <td>0</td>\n",
       "      <td>0</td>\n",
       "      <td>254</td>\n",
       "      <td>high</td>\n",
       "    </tr>\n",
       "    <tr>\n",
       "      <th>1</th>\n",
       "      <td>6.6</td>\n",
       "      <td>36</td>\n",
       "      <td>0</td>\n",
       "      <td>1</td>\n",
       "      <td>1</td>\n",
       "      <td>253</td>\n",
       "      <td>high</td>\n",
       "    </tr>\n",
       "    <tr>\n",
       "      <th>2</th>\n",
       "      <td>8.5</td>\n",
       "      <td>70</td>\n",
       "      <td>1</td>\n",
       "      <td>1</td>\n",
       "      <td>1</td>\n",
       "      <td>246</td>\n",
       "      <td>low</td>\n",
       "    </tr>\n",
       "    <tr>\n",
       "      <th>3</th>\n",
       "      <td>9.5</td>\n",
       "      <td>34</td>\n",
       "      <td>1</td>\n",
       "      <td>1</td>\n",
       "      <td>1</td>\n",
       "      <td>255</td>\n",
       "      <td>low</td>\n",
       "    </tr>\n",
       "    <tr>\n",
       "      <th>4</th>\n",
       "      <td>6.6</td>\n",
       "      <td>37</td>\n",
       "      <td>0</td>\n",
       "      <td>0</td>\n",
       "      <td>0</td>\n",
       "      <td>255</td>\n",
       "      <td>medium</td>\n",
       "    </tr>\n",
       "    <tr>\n",
       "      <th>...</th>\n",
       "      <td>...</td>\n",
       "      <td>...</td>\n",
       "      <td>...</td>\n",
       "      <td>...</td>\n",
       "      <td>...</td>\n",
       "      <td>...</td>\n",
       "      <td>...</td>\n",
       "    </tr>\n",
       "    <tr>\n",
       "      <th>1054</th>\n",
       "      <td>6.7</td>\n",
       "      <td>45</td>\n",
       "      <td>1</td>\n",
       "      <td>1</td>\n",
       "      <td>0</td>\n",
       "      <td>247</td>\n",
       "      <td>medium</td>\n",
       "    </tr>\n",
       "    <tr>\n",
       "      <th>1055</th>\n",
       "      <td>6.7</td>\n",
       "      <td>38</td>\n",
       "      <td>1</td>\n",
       "      <td>0</td>\n",
       "      <td>0</td>\n",
       "      <td>255</td>\n",
       "      <td>high</td>\n",
       "    </tr>\n",
       "    <tr>\n",
       "      <th>1056</th>\n",
       "      <td>3.0</td>\n",
       "      <td>40</td>\n",
       "      <td>1</td>\n",
       "      <td>1</td>\n",
       "      <td>1</td>\n",
       "      <td>255</td>\n",
       "      <td>low</td>\n",
       "    </tr>\n",
       "    <tr>\n",
       "      <th>1057</th>\n",
       "      <td>6.8</td>\n",
       "      <td>43</td>\n",
       "      <td>1</td>\n",
       "      <td>0</td>\n",
       "      <td>0</td>\n",
       "      <td>250</td>\n",
       "      <td>high</td>\n",
       "    </tr>\n",
       "    <tr>\n",
       "      <th>1058</th>\n",
       "      <td>8.6</td>\n",
       "      <td>55</td>\n",
       "      <td>0</td>\n",
       "      <td>1</td>\n",
       "      <td>1</td>\n",
       "      <td>255</td>\n",
       "      <td>low</td>\n",
       "    </tr>\n",
       "  </tbody>\n",
       "</table>\n",
       "<p>1059 rows × 7 columns</p>\n",
       "</div>"
      ],
      "text/plain": [
       "       pH  Temprature  Taste  Odor  Turbidity  Colour   Grade\n",
       "0     6.6          35      1     0          0     254    high\n",
       "1     6.6          36      0     1          1     253    high\n",
       "2     8.5          70      1     1          1     246     low\n",
       "3     9.5          34      1     1          1     255     low\n",
       "4     6.6          37      0     0          0     255  medium\n",
       "...   ...         ...    ...   ...        ...     ...     ...\n",
       "1054  6.7          45      1     1          0     247  medium\n",
       "1055  6.7          38      1     0          0     255    high\n",
       "1056  3.0          40      1     1          1     255     low\n",
       "1057  6.8          43      1     0          0     250    high\n",
       "1058  8.6          55      0     1          1     255     low\n",
       "\n",
       "[1059 rows x 7 columns]"
      ]
     },
     "execution_count": 68,
     "metadata": {},
     "output_type": "execute_result"
    }
   ],
   "source": [
    "milk_ds_gmdh = milk_ds\n",
    "milk_ds_gmdh"
   ]
  },
  {
   "cell_type": "code",
   "execution_count": 69,
   "id": "502671c2",
   "metadata": {},
   "outputs": [
    {
     "data": {
      "text/html": [
       "<div>\n",
       "<style scoped>\n",
       "    .dataframe tbody tr th:only-of-type {\n",
       "        vertical-align: middle;\n",
       "    }\n",
       "\n",
       "    .dataframe tbody tr th {\n",
       "        vertical-align: top;\n",
       "    }\n",
       "\n",
       "    .dataframe thead th {\n",
       "        text-align: right;\n",
       "    }\n",
       "</style>\n",
       "<table border=\"1\" class=\"dataframe\">\n",
       "  <thead>\n",
       "    <tr style=\"text-align: right;\">\n",
       "      <th></th>\n",
       "      <th>pH</th>\n",
       "      <th>Temprature</th>\n",
       "      <th>Taste</th>\n",
       "      <th>Odor</th>\n",
       "      <th>Turbidity</th>\n",
       "      <th>Colour</th>\n",
       "      <th>Grade</th>\n",
       "      <th>target_bin</th>\n",
       "    </tr>\n",
       "  </thead>\n",
       "  <tbody>\n",
       "    <tr>\n",
       "      <th>0</th>\n",
       "      <td>6.6</td>\n",
       "      <td>35</td>\n",
       "      <td>1</td>\n",
       "      <td>0</td>\n",
       "      <td>0</td>\n",
       "      <td>254</td>\n",
       "      <td>high</td>\n",
       "      <td>1</td>\n",
       "    </tr>\n",
       "    <tr>\n",
       "      <th>1</th>\n",
       "      <td>6.6</td>\n",
       "      <td>36</td>\n",
       "      <td>0</td>\n",
       "      <td>1</td>\n",
       "      <td>1</td>\n",
       "      <td>253</td>\n",
       "      <td>high</td>\n",
       "      <td>1</td>\n",
       "    </tr>\n",
       "    <tr>\n",
       "      <th>2</th>\n",
       "      <td>8.5</td>\n",
       "      <td>70</td>\n",
       "      <td>1</td>\n",
       "      <td>1</td>\n",
       "      <td>1</td>\n",
       "      <td>246</td>\n",
       "      <td>low</td>\n",
       "      <td>0</td>\n",
       "    </tr>\n",
       "    <tr>\n",
       "      <th>3</th>\n",
       "      <td>9.5</td>\n",
       "      <td>34</td>\n",
       "      <td>1</td>\n",
       "      <td>1</td>\n",
       "      <td>1</td>\n",
       "      <td>255</td>\n",
       "      <td>low</td>\n",
       "      <td>0</td>\n",
       "    </tr>\n",
       "    <tr>\n",
       "      <th>4</th>\n",
       "      <td>6.6</td>\n",
       "      <td>37</td>\n",
       "      <td>0</td>\n",
       "      <td>0</td>\n",
       "      <td>0</td>\n",
       "      <td>255</td>\n",
       "      <td>medium</td>\n",
       "      <td>0</td>\n",
       "    </tr>\n",
       "  </tbody>\n",
       "</table>\n",
       "</div>"
      ],
      "text/plain": [
       "    pH  Temprature  Taste  Odor  Turbidity  Colour   Grade  target_bin\n",
       "0  6.6          35      1     0          0     254    high           1\n",
       "1  6.6          36      0     1          1     253    high           1\n",
       "2  8.5          70      1     1          1     246     low           0\n",
       "3  9.5          34      1     1          1     255     low           0\n",
       "4  6.6          37      0     0          0     255  medium           0"
      ]
     },
     "execution_count": 69,
     "metadata": {},
     "output_type": "execute_result"
    }
   ],
   "source": [
    "milk_ds_gmdh['target_bin'] = bin_milk_y\n",
    "milk_ds_gmdh.head()"
   ]
  },
  {
   "cell_type": "code",
   "execution_count": 70,
   "id": "3b00d2ad",
   "metadata": {},
   "outputs": [],
   "source": [
    "milk_X_train3, milk_X_test3, milk_y_train3, milk_y_test3 = train_test_split(\n",
    "    X, \n",
    "    milk_ds_gmdh['target_bin'].values, test_size=0.1, random_state=1)"
   ]
  },
  {
   "cell_type": "code",
   "execution_count": 71,
   "id": "d5888cfc",
   "metadata": {},
   "outputs": [
    {
     "name": "stdout",
     "output_type": "stream",
     "text": [
      "train layer0 in 0.11 sec\n",
      "train layer1 in 0.53 sec\n",
      "train layer2 in 0.53 sec\n",
      "train layer3 in 0.54 sec\n",
      "train layer4 in 0.64 sec\n",
      "train layer5 in 0.55 sec\n",
      "train layer6 in 0.50 sec\n",
      "train layer7 in 0.50 sec\n",
      "train layer8 in 0.50 sec\n",
      "train layer9 in 0.50 sec\n",
      "train layer10 in 0.51 sec\n",
      "train layer11 in 0.50 sec\n",
      "train layer12 in 0.50 sec\n",
      "train layer13 in 0.50 sec\n",
      "train layer14 in 0.48 sec\n",
      "train layer15 in 0.51 sec\n",
      "train layer16 in 0.51 sec\n",
      "train layer17 in 0.49 sec\n",
      "train layer18 in 0.49 sec\n",
      "train layer19 in 0.50 sec\n",
      "train layer20 in 0.49 sec\n",
      "train layer21 in 0.49 sec\n",
      "train layer22 in 0.50 sec\n",
      "train layer23 in 0.49 sec\n",
      "train layer24 in 0.50 sec\n",
      "train layer25 in 0.50 sec\n",
      "train layer26 in 0.49 sec\n",
      "train layer27 in 0.49 sec\n",
      "train layer28 in 0.49 sec\n",
      "train layer29 in 0.48 sec\n",
      "train layer30 in 0.53 sec\n",
      "train layer31 in 0.49 sec\n"
     ]
    },
    {
     "data": {
      "text/plain": [
       "<gmdhpy.gmdh.Classifier at 0x280822310f0>"
      ]
     },
     "execution_count": 71,
     "metadata": {},
     "output_type": "execute_result"
    }
   ],
   "source": [
    "model_gmdh = gmdh.Classifier()\n",
    "# model_gmdh.fit(milk_X_train3, milk_y_train3)\n",
    "model_gmdh.fit(milk_X_train3, milk_y_train3, validation_data=(milk_X_test3, milk_y_test3))"
   ]
  },
  {
   "cell_type": "code",
   "execution_count": 72,
   "id": "9da9c3cc",
   "metadata": {},
   "outputs": [
    {
     "data": {
      "text/plain": [
       "array([0.03988947, 0.04037847, 0.97709077, 0.03988947, 0.98115296,\n",
       "       0.03988947, 0.04037998, 0.04037806, 0.98115296, 0.00392252,\n",
       "       0.98120433, 0.00392306, 0.98112535, 0.00393319, 0.98118945,\n",
       "       0.00392306, 0.00392306, 0.98112535, 0.03177376, 0.00393319,\n",
       "       0.00393319, 0.00392306, 0.97708325, 0.0403795 , 0.00393316,\n",
       "       0.03175211, 0.00392306, 0.00393316, 0.03177377, 0.00392306,\n",
       "       0.00392306, 0.03988947, 0.98120433, 0.00393319, 0.98115236,\n",
       "       0.98115296, 0.9812042 , 0.03989018, 0.00393319, 0.03177377,\n",
       "       0.97709077, 0.03177377, 0.00393319, 0.00393319, 0.9812042 ,\n",
       "       0.00392306, 0.04037847, 0.00392306, 0.00392306, 0.98118945,\n",
       "       0.04037847, 0.97664855, 0.00392306, 0.04037847, 0.04037947,\n",
       "       0.03177376, 0.03988947, 0.03177376, 0.98071275, 0.98115236,\n",
       "       0.00392306, 0.03177376, 0.03989017, 0.00393319, 0.00393316,\n",
       "       0.98115236, 0.04037847, 0.00393316, 0.0403795 , 0.06912373,\n",
       "       0.03177376, 0.04037847, 0.04037947, 0.04037947, 0.98071275,\n",
       "       0.00393316, 0.9812041 , 0.04037774, 0.0403795 , 0.00392252,\n",
       "       0.00393316, 0.00393316, 0.00393319, 0.0403795 , 0.04037998,\n",
       "       0.04037806, 0.03175211, 0.03177376, 0.00393319, 0.00393319,\n",
       "       0.03988947, 0.03175211, 0.98115296, 0.97664855, 0.97664855,\n",
       "       0.03177376, 0.03988947, 0.03989017, 0.03988947, 0.03175211,\n",
       "       0.0403795 , 0.00393319, 0.00393319, 0.03988947, 0.00392306,\n",
       "       0.00393319])"
      ]
     },
     "execution_count": 72,
     "metadata": {},
     "output_type": "execute_result"
    }
   ],
   "source": [
    "predicted_scores = model_gmdh.predict_proba(milk_X_test3)\n",
    "predicted_scores"
   ]
  },
  {
   "cell_type": "code",
   "execution_count": 73,
   "id": "37688681",
   "metadata": {},
   "outputs": [
    {
     "ename": "ValueError",
     "evalue": "y should be a 1d array, got an array of shape () instead.",
     "output_type": "error",
     "traceback": [
      "\u001b[1;31m---------------------------------------------------------------------------\u001b[0m",
      "\u001b[1;31mValueError\u001b[0m                                Traceback (most recent call last)",
      "\u001b[1;32m~\\AppData\\Local\\Temp\\ipykernel_17052\\2858908963.py\u001b[0m in \u001b[0;36m<module>\u001b[1;34m\u001b[0m\n\u001b[1;32m----> 1\u001b[1;33m \u001b[0mpredicted_lables\u001b[0m \u001b[1;33m=\u001b[0m \u001b[0mmodel_gmdh\u001b[0m\u001b[1;33m.\u001b[0m\u001b[0mpredict\u001b[0m\u001b[1;33m(\u001b[0m\u001b[0mmilk_X_test3\u001b[0m\u001b[1;33m)\u001b[0m\u001b[1;33m\u001b[0m\u001b[0m\n\u001b[0m",
      "\u001b[1;32mC:\\PycharmProjects\\OAD_NIRS\\venv\\lib\\site-packages\\gmdhpy-2.0-py3.7.egg\\gmdhpy\\gmdh.py\u001b[0m in \u001b[0;36mpredict\u001b[1;34m(self, data_x)\u001b[0m\n\u001b[0;32m    963\u001b[0m         \u001b[0mtest_x\u001b[0m \u001b[1;33m-\u001b[0m \u001b[0msamples\u001b[0m \u001b[0mto\u001b[0m \u001b[0mbe\u001b[0m \u001b[0mpredicted\u001b[0m\u001b[1;33m,\u001b[0m \u001b[0mnumpy\u001b[0m \u001b[0marray\u001b[0m \u001b[0mof\u001b[0m \u001b[0mshape\u001b[0m \u001b[1;33m[\u001b[0m\u001b[0mtest_n_samples\u001b[0m\u001b[1;33m,\u001b[0m \u001b[0mn_features\u001b[0m\u001b[1;33m]\u001b[0m\u001b[1;33m\u001b[0m\u001b[0m\n\u001b[0;32m    964\u001b[0m         \"\"\"\n\u001b[1;32m--> 965\u001b[1;33m         \u001b[1;32mreturn\u001b[0m \u001b[0mself\u001b[0m\u001b[1;33m.\u001b[0m\u001b[0mle\u001b[0m\u001b[1;33m.\u001b[0m\u001b[0mtransform\u001b[0m\u001b[1;33m(\u001b[0m\u001b[0mnp\u001b[0m\u001b[1;33m.\u001b[0m\u001b[0margmax\u001b[0m\u001b[1;33m(\u001b[0m\u001b[0mself\u001b[0m\u001b[1;33m.\u001b[0m\u001b[0mpredict_proba\u001b[0m\u001b[1;33m(\u001b[0m\u001b[0mdata_x\u001b[0m\u001b[1;33m)\u001b[0m\u001b[1;33m)\u001b[0m\u001b[1;33m)\u001b[0m\u001b[1;33m\u001b[0m\u001b[0m\n\u001b[0m\u001b[0;32m    966\u001b[0m \u001b[1;33m\u001b[0m\u001b[0m\n\u001b[0;32m    967\u001b[0m \u001b[1;33m\u001b[0m\u001b[0m\n",
      "\u001b[1;32mC:\\PycharmProjects\\OAD_NIRS\\venv\\lib\\site-packages\\sklearn\\preprocessing\\_label.py\u001b[0m in \u001b[0;36mtransform\u001b[1;34m(self, y)\u001b[0m\n\u001b[0;32m    131\u001b[0m         \"\"\"\n\u001b[0;32m    132\u001b[0m         \u001b[0mcheck_is_fitted\u001b[0m\u001b[1;33m(\u001b[0m\u001b[0mself\u001b[0m\u001b[1;33m)\u001b[0m\u001b[1;33m\u001b[0m\u001b[0m\n\u001b[1;32m--> 133\u001b[1;33m         \u001b[0my\u001b[0m \u001b[1;33m=\u001b[0m \u001b[0mcolumn_or_1d\u001b[0m\u001b[1;33m(\u001b[0m\u001b[0my\u001b[0m\u001b[1;33m,\u001b[0m \u001b[0mwarn\u001b[0m\u001b[1;33m=\u001b[0m\u001b[1;32mTrue\u001b[0m\u001b[1;33m)\u001b[0m\u001b[1;33m\u001b[0m\u001b[0m\n\u001b[0m\u001b[0;32m    134\u001b[0m         \u001b[1;31m# transform of empty array is empty array\u001b[0m\u001b[1;33m\u001b[0m\u001b[1;33m\u001b[0m\u001b[0m\n\u001b[0;32m    135\u001b[0m         \u001b[1;32mif\u001b[0m \u001b[0m_num_samples\u001b[0m\u001b[1;33m(\u001b[0m\u001b[0my\u001b[0m\u001b[1;33m)\u001b[0m \u001b[1;33m==\u001b[0m \u001b[1;36m0\u001b[0m\u001b[1;33m:\u001b[0m\u001b[1;33m\u001b[0m\u001b[0m\n",
      "\u001b[1;32mC:\\PycharmProjects\\OAD_NIRS\\venv\\lib\\site-packages\\sklearn\\utils\\validation.py\u001b[0m in \u001b[0;36mcolumn_or_1d\u001b[1;34m(y, warn)\u001b[0m\n\u001b[0;32m   1037\u001b[0m \u001b[1;33m\u001b[0m\u001b[0m\n\u001b[0;32m   1038\u001b[0m     raise ValueError(\n\u001b[1;32m-> 1039\u001b[1;33m         \u001b[1;34m\"y should be a 1d array, got an array of shape {} instead.\"\u001b[0m\u001b[1;33m.\u001b[0m\u001b[0mformat\u001b[0m\u001b[1;33m(\u001b[0m\u001b[0mshape\u001b[0m\u001b[1;33m)\u001b[0m\u001b[1;33m\u001b[0m\u001b[0m\n\u001b[0m\u001b[0;32m   1040\u001b[0m     )\n\u001b[0;32m   1041\u001b[0m \u001b[1;33m\u001b[0m\u001b[0m\n",
      "\u001b[1;31mValueError\u001b[0m: y should be a 1d array, got an array of shape () instead."
     ]
    }
   ],
   "source": [
    "predicted_lables = model_gmdh.predict(milk_X_test3)"
   ]
  },
  {
   "cell_type": "code",
   "execution_count": 74,
   "id": "78f7cdc2",
   "metadata": {},
   "outputs": [
    {
     "data": {
      "text/plain": [
       "array([0., 0., 1., 0., 1., 0., 0., 0., 1., 0., 1., 0., 1., 0., 1., 0., 0.,\n",
       "       1., 0., 0., 0., 0., 1., 0., 0., 0., 0., 0., 0., 0., 0., 0., 1., 0.,\n",
       "       1., 1., 1., 0., 0., 0., 1., 0., 0., 0., 1., 0., 0., 0., 0., 1., 0.,\n",
       "       1., 0., 0., 0., 0., 0., 0., 1., 1., 0., 0., 0., 0., 0., 1., 0., 0.,\n",
       "       0., 0., 0., 0., 0., 0., 1., 0., 1., 0., 0., 0., 0., 0., 0., 0., 0.,\n",
       "       0., 0., 0., 0., 0., 0., 0., 1., 1., 1., 0., 0., 0., 0., 0., 0., 0.,\n",
       "       0., 0., 0., 0.])"
      ]
     },
     "execution_count": 74,
     "metadata": {},
     "output_type": "execute_result"
    }
   ],
   "source": [
    "for i in range(len(predicted_scores)):\n",
    "    if predicted_scores[i] >= 0.5:\n",
    "        predicted_scores[i] = 1\n",
    "    else:\n",
    "        predicted_scores[i] = 0\n",
    "predicted_scores"
   ]
  },
  {
   "cell_type": "code",
   "execution_count": 75,
   "id": "66c563f1",
   "metadata": {},
   "outputs": [
    {
     "data": {
      "text/plain": [
       "0.9811320754716981"
      ]
     },
     "execution_count": 75,
     "metadata": {},
     "output_type": "execute_result"
    }
   ],
   "source": [
    "accuracy_score(milk_y_test3, predicted_scores)"
   ]
  },
  {
   "cell_type": "code",
   "execution_count": 76,
   "id": "c6dfe209",
   "metadata": {},
   "outputs": [
    {
     "data": {
      "text/plain": [
       "0.9230769230769231"
      ]
     },
     "execution_count": 76,
     "metadata": {},
     "output_type": "execute_result"
    }
   ],
   "source": [
    "recall_score(milk_y_test3, predicted_scores)"
   ]
  },
  {
   "cell_type": "code",
   "execution_count": 77,
   "id": "3af5842c",
   "metadata": {},
   "outputs": [
    {
     "data": {
      "text/plain": [
       "1.0"
      ]
     },
     "execution_count": 77,
     "metadata": {},
     "output_type": "execute_result"
    }
   ],
   "source": [
    "precision_score(milk_y_test3, predicted_scores)"
   ]
  },
  {
   "cell_type": "code",
   "execution_count": null,
   "id": "d6ee484d",
   "metadata": {},
   "outputs": [],
   "source": []
  }
 ],
 "metadata": {
  "kernelspec": {
   "display_name": "Python 3 (ipykernel)",
   "language": "python",
   "name": "python3"
  },
  "language_info": {
   "codemirror_mode": {
    "name": "ipython",
    "version": 3
   },
   "file_extension": ".py",
   "mimetype": "text/x-python",
   "name": "python",
   "nbconvert_exporter": "python",
   "pygments_lexer": "ipython3",
   "version": "3.7.0"
  }
 },
 "nbformat": 4,
 "nbformat_minor": 5
}
